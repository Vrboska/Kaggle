{
 "cells": [
  {
   "cell_type": "markdown",
   "id": "2dff3d83",
   "metadata": {
    "ExecuteTime": {
     "end_time": "2023-03-24T18:55:58.385845Z",
     "start_time": "2023-03-24T18:55:58.381850Z"
    },
    "papermill": {
     "duration": 0.019782,
     "end_time": "2023-03-25T10:51:29.517832",
     "exception": false,
     "start_time": "2023-03-25T10:51:29.498050",
     "status": "completed"
    },
    "tags": []
   },
   "source": [
    "# Importing stuff"
   ]
  },
  {
   "cell_type": "code",
   "execution_count": 1,
   "id": "16e26c6d",
   "metadata": {
    "ExecuteTime": {
     "end_time": "2023-03-25T09:55:51.591930Z",
     "start_time": "2023-03-25T09:55:51.584934Z"
    },
    "execution": {
     "iopub.execute_input": "2023-03-25T10:51:29.557346Z",
     "iopub.status.busy": "2023-03-25T10:51:29.556615Z",
     "iopub.status.idle": "2023-03-25T10:51:29.566251Z",
     "shell.execute_reply": "2023-03-25T10:51:29.565232Z"
    },
    "papermill": {
     "duration": 0.032992,
     "end_time": "2023-03-25T10:51:29.568773",
     "exception": false,
     "start_time": "2023-03-25T10:51:29.535781",
     "status": "completed"
    },
    "tags": []
   },
   "outputs": [],
   "source": [
    "import warnings\n",
    "warnings.filterwarnings('ignore')"
   ]
  },
  {
   "cell_type": "code",
   "execution_count": 2,
   "id": "084b63d8",
   "metadata": {
    "execution": {
     "iopub.execute_input": "2023-03-25T10:51:29.605663Z",
     "iopub.status.busy": "2023-03-25T10:51:29.604865Z",
     "iopub.status.idle": "2023-03-25T10:51:45.445981Z",
     "shell.execute_reply": "2023-03-25T10:51:45.444549Z"
    },
    "papermill": {
     "duration": 15.863014,
     "end_time": "2023-03-25T10:51:45.449101",
     "exception": false,
     "start_time": "2023-03-25T10:51:29.586087",
     "status": "completed"
    },
    "tags": []
   },
   "outputs": [
    {
     "name": "stdout",
     "output_type": "stream",
     "text": [
      "Collecting git+https://github.com/Vrboska/mofr@master\r\n",
      "  Cloning https://github.com/Vrboska/mofr (to revision master) to /tmp/pip-req-build-p6mimpff\r\n",
      "  Running command git clone --filter=blob:none --quiet https://github.com/Vrboska/mofr /tmp/pip-req-build-p6mimpff\r\n",
      "  Running command git checkout -b master --track origin/master\r\n",
      "  Switched to a new branch 'master'\r\n",
      "  branch 'master' set up to track 'origin/master'.\r\n",
      "  Resolved https://github.com/Vrboska/mofr to commit 9e35370debae10d418189ddd58b213a64b210895\r\n",
      "  Preparing metadata (setup.py) ... \u001b[?25l-\b \bdone\r\n",
      "\u001b[?25hBuilding wheels for collected packages: mofr\r\n",
      "  Building wheel for mofr (setup.py) ... \u001b[?25l-\b \b\\\b \bdone\r\n",
      "\u001b[?25h  Created wheel for mofr: filename=mofr-1.0-py3-none-any.whl size=25809 sha256=eada78c5d259073cfc9ec634e47b408c26c801adbe580aba23e4c53917507011\r\n",
      "  Stored in directory: /tmp/pip-ephem-wheel-cache-kopaonnq/wheels/b8/d0/2a/36bf0097c9fa72bb9af2b201e9b71bbfa6ebbae4fc8d066dc7\r\n",
      "Successfully built mofr\r\n",
      "Installing collected packages: mofr\r\n",
      "Successfully installed mofr-1.0\r\n",
      "\u001b[33mWARNING: Running pip as the 'root' user can result in broken permissions and conflicting behaviour with the system package manager. It is recommended to use a virtual environment instead: https://pip.pypa.io/warnings/venv\u001b[0m\u001b[33m\r\n",
      "\u001b[0m"
     ]
    }
   ],
   "source": [
    "#importing custom library\n",
    "!pip install git+https://github.com/Vrboska/mofr@master"
   ]
  },
  {
   "cell_type": "code",
   "execution_count": 3,
   "id": "bd3a1198",
   "metadata": {
    "ExecuteTime": {
     "end_time": "2023-03-25T09:55:52.468728Z",
     "start_time": "2023-03-25T09:55:51.593930Z"
    },
    "execution": {
     "iopub.execute_input": "2023-03-25T10:51:45.489206Z",
     "iopub.status.busy": "2023-03-25T10:51:45.488732Z",
     "iopub.status.idle": "2023-03-25T10:51:46.690909Z",
     "shell.execute_reply": "2023-03-25T10:51:46.689742Z"
    },
    "papermill": {
     "duration": 1.226063,
     "end_time": "2023-03-25T10:51:46.693900",
     "exception": false,
     "start_time": "2023-03-25T10:51:45.467837",
     "status": "completed"
    },
    "tags": []
   },
   "outputs": [],
   "source": [
    "import mofr"
   ]
  },
  {
   "cell_type": "code",
   "execution_count": 4,
   "id": "332977d5",
   "metadata": {
    "ExecuteTime": {
     "end_time": "2023-03-25T09:55:54.047452Z",
     "start_time": "2023-03-25T09:55:52.469754Z"
    },
    "execution": {
     "iopub.execute_input": "2023-03-25T10:51:46.732290Z",
     "iopub.status.busy": "2023-03-25T10:51:46.731863Z",
     "iopub.status.idle": "2023-03-25T10:51:51.069147Z",
     "shell.execute_reply": "2023-03-25T10:51:51.067771Z"
    },
    "hide_input": false,
    "papermill": {
     "duration": 4.359936,
     "end_time": "2023-03-25T10:51:51.072040",
     "exception": false,
     "start_time": "2023-03-25T10:51:46.712104",
     "status": "completed"
    },
    "tags": []
   },
   "outputs": [],
   "source": [
    "import re\n",
    "import string\n",
    "import numpy as np \n",
    "import random\n",
    "import pandas as pd \n",
    "import matplotlib.pyplot as plt\n",
    "import seaborn as sns\n",
    "%matplotlib inline\n",
    "from plotly import graph_objs as go\n",
    "import plotly.express as px\n",
    "import plotly.figure_factory as ff\n",
    "from collections import Counter\n",
    "\n",
    "from PIL import Image\n",
    "from wordcloud import WordCloud, STOPWORDS, ImageColorGenerator\n",
    "\n",
    "\n",
    "import nltk\n",
    "from nltk.corpus import stopwords\n",
    "from nltk.tokenize import word_tokenize\n",
    "\n",
    "from tqdm import tqdm\n",
    "import os\n",
    "import random\n",
    "from collections import defaultdict\n",
    "from collections import Counter\n",
    "\n",
    "from sklearn.model_selection import train_test_split\n",
    "from sklearn.metrics import (accuracy_score, confusion_matrix,\n",
    "                             f1_score, precision_score,\n",
    "                             recall_score, roc_auc_score)\n",
    "from xgboost import XGBClassifier, plot_tree\n",
    "\n",
    "import xgboost as xgb"
   ]
  },
  {
   "cell_type": "code",
   "execution_count": 5,
   "id": "cf56c005",
   "metadata": {
    "ExecuteTime": {
     "end_time": "2023-03-25T09:55:54.063444Z",
     "start_time": "2023-03-25T09:55:54.049442Z"
    },
    "execution": {
     "iopub.execute_input": "2023-03-25T10:51:51.110265Z",
     "iopub.status.busy": "2023-03-25T10:51:51.109589Z",
     "iopub.status.idle": "2023-03-25T10:51:51.114612Z",
     "shell.execute_reply": "2023-03-25T10:51:51.113635Z"
    },
    "papermill": {
     "duration": 0.027084,
     "end_time": "2023-03-25T10:51:51.117017",
     "exception": false,
     "start_time": "2023-03-25T10:51:51.089933",
     "status": "completed"
    },
    "tags": []
   },
   "outputs": [],
   "source": [
    "seed=1234"
   ]
  },
  {
   "cell_type": "markdown",
   "id": "4b7c8403",
   "metadata": {
    "ExecuteTime": {
     "end_time": "2023-03-24T18:59:59.890203Z",
     "start_time": "2023-03-24T18:59:59.880196Z"
    },
    "papermill": {
     "duration": 0.017225,
     "end_time": "2023-03-25T10:51:51.152044",
     "exception": false,
     "start_time": "2023-03-25T10:51:51.134819",
     "status": "completed"
    },
    "tags": []
   },
   "source": [
    "# Loading data"
   ]
  },
  {
   "cell_type": "code",
   "execution_count": 6,
   "id": "5be667d3",
   "metadata": {
    "ExecuteTime": {
     "end_time": "2023-03-25T09:55:54.094451Z",
     "start_time": "2023-03-25T09:55:54.065446Z"
    },
    "execution": {
     "iopub.execute_input": "2023-03-25T10:51:51.189246Z",
     "iopub.status.busy": "2023-03-25T10:51:51.188815Z",
     "iopub.status.idle": "2023-03-25T10:51:51.281787Z",
     "shell.execute_reply": "2023-03-25T10:51:51.280610Z"
    },
    "papermill": {
     "duration": 0.115719,
     "end_time": "2023-03-25T10:51:51.285250",
     "exception": false,
     "start_time": "2023-03-25T10:51:51.169531",
     "status": "completed"
    },
    "tags": []
   },
   "outputs": [],
   "source": [
    "train=pd.read_csv('/kaggle/input/nlpgettingstarted/train.csv')\n",
    "test=pd.read_csv('/kaggle/input/nlpgettingstarted/test.csv')\n",
    "sample_submission=pd.read_csv('/kaggle/input/nlpgettingstarted/sample_submission.csv')"
   ]
  },
  {
   "cell_type": "code",
   "execution_count": 7,
   "id": "babe83c8",
   "metadata": {
    "ExecuteTime": {
     "end_time": "2023-03-25T09:55:54.109451Z",
     "start_time": "2023-03-25T09:55:54.095455Z"
    },
    "execution": {
     "iopub.execute_input": "2023-03-25T10:51:51.323237Z",
     "iopub.status.busy": "2023-03-25T10:51:51.322814Z",
     "iopub.status.idle": "2023-03-25T10:51:51.364518Z",
     "shell.execute_reply": "2023-03-25T10:51:51.363105Z"
    },
    "papermill": {
     "duration": 0.063952,
     "end_time": "2023-03-25T10:51:51.367529",
     "exception": false,
     "start_time": "2023-03-25T10:51:51.303577",
     "status": "completed"
    },
    "tags": []
   },
   "outputs": [
    {
     "data": {
      "text/html": [
       "<div>\n",
       "<style scoped>\n",
       "    .dataframe tbody tr th:only-of-type {\n",
       "        vertical-align: middle;\n",
       "    }\n",
       "\n",
       "    .dataframe tbody tr th {\n",
       "        vertical-align: top;\n",
       "    }\n",
       "\n",
       "    .dataframe thead th {\n",
       "        text-align: right;\n",
       "    }\n",
       "</style>\n",
       "<table border=\"1\" class=\"dataframe\">\n",
       "  <thead>\n",
       "    <tr style=\"text-align: right;\">\n",
       "      <th></th>\n",
       "      <th>id</th>\n",
       "      <th>keyword</th>\n",
       "      <th>location</th>\n",
       "      <th>text</th>\n",
       "      <th>target</th>\n",
       "    </tr>\n",
       "  </thead>\n",
       "  <tbody>\n",
       "    <tr>\n",
       "      <th>0</th>\n",
       "      <td>1</td>\n",
       "      <td>NaN</td>\n",
       "      <td>NaN</td>\n",
       "      <td>Our Deeds are the Reason of this #earthquake M...</td>\n",
       "      <td>1</td>\n",
       "    </tr>\n",
       "    <tr>\n",
       "      <th>1</th>\n",
       "      <td>4</td>\n",
       "      <td>NaN</td>\n",
       "      <td>NaN</td>\n",
       "      <td>Forest fire near La Ronge Sask. Canada</td>\n",
       "      <td>1</td>\n",
       "    </tr>\n",
       "    <tr>\n",
       "      <th>2</th>\n",
       "      <td>5</td>\n",
       "      <td>NaN</td>\n",
       "      <td>NaN</td>\n",
       "      <td>All residents asked to 'shelter in place' are ...</td>\n",
       "      <td>1</td>\n",
       "    </tr>\n",
       "    <tr>\n",
       "      <th>3</th>\n",
       "      <td>6</td>\n",
       "      <td>NaN</td>\n",
       "      <td>NaN</td>\n",
       "      <td>13,000 people receive #wildfires evacuation or...</td>\n",
       "      <td>1</td>\n",
       "    </tr>\n",
       "    <tr>\n",
       "      <th>4</th>\n",
       "      <td>7</td>\n",
       "      <td>NaN</td>\n",
       "      <td>NaN</td>\n",
       "      <td>Just got sent this photo from Ruby #Alaska as ...</td>\n",
       "      <td>1</td>\n",
       "    </tr>\n",
       "    <tr>\n",
       "      <th>...</th>\n",
       "      <td>...</td>\n",
       "      <td>...</td>\n",
       "      <td>...</td>\n",
       "      <td>...</td>\n",
       "      <td>...</td>\n",
       "    </tr>\n",
       "    <tr>\n",
       "      <th>7608</th>\n",
       "      <td>10869</td>\n",
       "      <td>NaN</td>\n",
       "      <td>NaN</td>\n",
       "      <td>Two giant cranes holding a bridge collapse int...</td>\n",
       "      <td>1</td>\n",
       "    </tr>\n",
       "    <tr>\n",
       "      <th>7609</th>\n",
       "      <td>10870</td>\n",
       "      <td>NaN</td>\n",
       "      <td>NaN</td>\n",
       "      <td>@aria_ahrary @TheTawniest The out of control w...</td>\n",
       "      <td>1</td>\n",
       "    </tr>\n",
       "    <tr>\n",
       "      <th>7610</th>\n",
       "      <td>10871</td>\n",
       "      <td>NaN</td>\n",
       "      <td>NaN</td>\n",
       "      <td>M1.94 [01:04 UTC]?5km S of Volcano Hawaii. htt...</td>\n",
       "      <td>1</td>\n",
       "    </tr>\n",
       "    <tr>\n",
       "      <th>7611</th>\n",
       "      <td>10872</td>\n",
       "      <td>NaN</td>\n",
       "      <td>NaN</td>\n",
       "      <td>Police investigating after an e-bike collided ...</td>\n",
       "      <td>1</td>\n",
       "    </tr>\n",
       "    <tr>\n",
       "      <th>7612</th>\n",
       "      <td>10873</td>\n",
       "      <td>NaN</td>\n",
       "      <td>NaN</td>\n",
       "      <td>The Latest: More Homes Razed by Northern Calif...</td>\n",
       "      <td>1</td>\n",
       "    </tr>\n",
       "  </tbody>\n",
       "</table>\n",
       "<p>7613 rows × 5 columns</p>\n",
       "</div>"
      ],
      "text/plain": [
       "         id keyword location  \\\n",
       "0         1     NaN      NaN   \n",
       "1         4     NaN      NaN   \n",
       "2         5     NaN      NaN   \n",
       "3         6     NaN      NaN   \n",
       "4         7     NaN      NaN   \n",
       "...     ...     ...      ...   \n",
       "7608  10869     NaN      NaN   \n",
       "7609  10870     NaN      NaN   \n",
       "7610  10871     NaN      NaN   \n",
       "7611  10872     NaN      NaN   \n",
       "7612  10873     NaN      NaN   \n",
       "\n",
       "                                                   text  target  \n",
       "0     Our Deeds are the Reason of this #earthquake M...       1  \n",
       "1                Forest fire near La Ronge Sask. Canada       1  \n",
       "2     All residents asked to 'shelter in place' are ...       1  \n",
       "3     13,000 people receive #wildfires evacuation or...       1  \n",
       "4     Just got sent this photo from Ruby #Alaska as ...       1  \n",
       "...                                                 ...     ...  \n",
       "7608  Two giant cranes holding a bridge collapse int...       1  \n",
       "7609  @aria_ahrary @TheTawniest The out of control w...       1  \n",
       "7610  M1.94 [01:04 UTC]?5km S of Volcano Hawaii. htt...       1  \n",
       "7611  Police investigating after an e-bike collided ...       1  \n",
       "7612  The Latest: More Homes Razed by Northern Calif...       1  \n",
       "\n",
       "[7613 rows x 5 columns]"
      ]
     },
     "execution_count": 7,
     "metadata": {},
     "output_type": "execute_result"
    }
   ],
   "source": [
    "train"
   ]
  },
  {
   "cell_type": "code",
   "execution_count": 8,
   "id": "953e3ecc",
   "metadata": {
    "ExecuteTime": {
     "end_time": "2023-03-25T09:55:54.125443Z",
     "start_time": "2023-03-25T09:55:54.110445Z"
    },
    "execution": {
     "iopub.execute_input": "2023-03-25T10:51:51.409049Z",
     "iopub.status.busy": "2023-03-25T10:51:51.407541Z",
     "iopub.status.idle": "2023-03-25T10:51:51.425049Z",
     "shell.execute_reply": "2023-03-25T10:51:51.423571Z"
    },
    "papermill": {
     "duration": 0.041634,
     "end_time": "2023-03-25T10:51:51.427965",
     "exception": false,
     "start_time": "2023-03-25T10:51:51.386331",
     "status": "completed"
    },
    "tags": []
   },
   "outputs": [
    {
     "data": {
      "text/html": [
       "<div>\n",
       "<style scoped>\n",
       "    .dataframe tbody tr th:only-of-type {\n",
       "        vertical-align: middle;\n",
       "    }\n",
       "\n",
       "    .dataframe tbody tr th {\n",
       "        vertical-align: top;\n",
       "    }\n",
       "\n",
       "    .dataframe thead th {\n",
       "        text-align: right;\n",
       "    }\n",
       "</style>\n",
       "<table border=\"1\" class=\"dataframe\">\n",
       "  <thead>\n",
       "    <tr style=\"text-align: right;\">\n",
       "      <th></th>\n",
       "      <th>id</th>\n",
       "      <th>keyword</th>\n",
       "      <th>location</th>\n",
       "      <th>text</th>\n",
       "    </tr>\n",
       "  </thead>\n",
       "  <tbody>\n",
       "    <tr>\n",
       "      <th>0</th>\n",
       "      <td>0</td>\n",
       "      <td>NaN</td>\n",
       "      <td>NaN</td>\n",
       "      <td>Just happened a terrible car crash</td>\n",
       "    </tr>\n",
       "    <tr>\n",
       "      <th>1</th>\n",
       "      <td>2</td>\n",
       "      <td>NaN</td>\n",
       "      <td>NaN</td>\n",
       "      <td>Heard about #earthquake is different cities, s...</td>\n",
       "    </tr>\n",
       "    <tr>\n",
       "      <th>2</th>\n",
       "      <td>3</td>\n",
       "      <td>NaN</td>\n",
       "      <td>NaN</td>\n",
       "      <td>there is a forest fire at spot pond, geese are...</td>\n",
       "    </tr>\n",
       "    <tr>\n",
       "      <th>3</th>\n",
       "      <td>9</td>\n",
       "      <td>NaN</td>\n",
       "      <td>NaN</td>\n",
       "      <td>Apocalypse lighting. #Spokane #wildfires</td>\n",
       "    </tr>\n",
       "    <tr>\n",
       "      <th>4</th>\n",
       "      <td>11</td>\n",
       "      <td>NaN</td>\n",
       "      <td>NaN</td>\n",
       "      <td>Typhoon Soudelor kills 28 in China and Taiwan</td>\n",
       "    </tr>\n",
       "    <tr>\n",
       "      <th>...</th>\n",
       "      <td>...</td>\n",
       "      <td>...</td>\n",
       "      <td>...</td>\n",
       "      <td>...</td>\n",
       "    </tr>\n",
       "    <tr>\n",
       "      <th>3258</th>\n",
       "      <td>10861</td>\n",
       "      <td>NaN</td>\n",
       "      <td>NaN</td>\n",
       "      <td>EARTHQUAKE SAFETY LOS ANGELES ÛÒ SAFETY FASTE...</td>\n",
       "    </tr>\n",
       "    <tr>\n",
       "      <th>3259</th>\n",
       "      <td>10865</td>\n",
       "      <td>NaN</td>\n",
       "      <td>NaN</td>\n",
       "      <td>Storm in RI worse than last hurricane. My city...</td>\n",
       "    </tr>\n",
       "    <tr>\n",
       "      <th>3260</th>\n",
       "      <td>10868</td>\n",
       "      <td>NaN</td>\n",
       "      <td>NaN</td>\n",
       "      <td>Green Line derailment in Chicago http://t.co/U...</td>\n",
       "    </tr>\n",
       "    <tr>\n",
       "      <th>3261</th>\n",
       "      <td>10874</td>\n",
       "      <td>NaN</td>\n",
       "      <td>NaN</td>\n",
       "      <td>MEG issues Hazardous Weather Outlook (HWO) htt...</td>\n",
       "    </tr>\n",
       "    <tr>\n",
       "      <th>3262</th>\n",
       "      <td>10875</td>\n",
       "      <td>NaN</td>\n",
       "      <td>NaN</td>\n",
       "      <td>#CityofCalgary has activated its Municipal Eme...</td>\n",
       "    </tr>\n",
       "  </tbody>\n",
       "</table>\n",
       "<p>3263 rows × 4 columns</p>\n",
       "</div>"
      ],
      "text/plain": [
       "         id keyword location  \\\n",
       "0         0     NaN      NaN   \n",
       "1         2     NaN      NaN   \n",
       "2         3     NaN      NaN   \n",
       "3         9     NaN      NaN   \n",
       "4        11     NaN      NaN   \n",
       "...     ...     ...      ...   \n",
       "3258  10861     NaN      NaN   \n",
       "3259  10865     NaN      NaN   \n",
       "3260  10868     NaN      NaN   \n",
       "3261  10874     NaN      NaN   \n",
       "3262  10875     NaN      NaN   \n",
       "\n",
       "                                                   text  \n",
       "0                    Just happened a terrible car crash  \n",
       "1     Heard about #earthquake is different cities, s...  \n",
       "2     there is a forest fire at spot pond, geese are...  \n",
       "3              Apocalypse lighting. #Spokane #wildfires  \n",
       "4         Typhoon Soudelor kills 28 in China and Taiwan  \n",
       "...                                                 ...  \n",
       "3258  EARTHQUAKE SAFETY LOS ANGELES ÛÒ SAFETY FASTE...  \n",
       "3259  Storm in RI worse than last hurricane. My city...  \n",
       "3260  Green Line derailment in Chicago http://t.co/U...  \n",
       "3261  MEG issues Hazardous Weather Outlook (HWO) htt...  \n",
       "3262  #CityofCalgary has activated its Municipal Eme...  \n",
       "\n",
       "[3263 rows x 4 columns]"
      ]
     },
     "execution_count": 8,
     "metadata": {},
     "output_type": "execute_result"
    }
   ],
   "source": [
    "test"
   ]
  },
  {
   "cell_type": "code",
   "execution_count": 9,
   "id": "2ddd9e3d",
   "metadata": {
    "ExecuteTime": {
     "end_time": "2023-03-25T09:55:54.140812Z",
     "start_time": "2023-03-25T09:55:54.126443Z"
    },
    "execution": {
     "iopub.execute_input": "2023-03-25T10:51:51.490874Z",
     "iopub.status.busy": "2023-03-25T10:51:51.489830Z",
     "iopub.status.idle": "2023-03-25T10:51:51.501672Z",
     "shell.execute_reply": "2023-03-25T10:51:51.500731Z"
    },
    "papermill": {
     "duration": 0.044788,
     "end_time": "2023-03-25T10:51:51.504198",
     "exception": false,
     "start_time": "2023-03-25T10:51:51.459410",
     "status": "completed"
    },
    "tags": []
   },
   "outputs": [
    {
     "data": {
      "text/html": [
       "<div>\n",
       "<style scoped>\n",
       "    .dataframe tbody tr th:only-of-type {\n",
       "        vertical-align: middle;\n",
       "    }\n",
       "\n",
       "    .dataframe tbody tr th {\n",
       "        vertical-align: top;\n",
       "    }\n",
       "\n",
       "    .dataframe thead th {\n",
       "        text-align: right;\n",
       "    }\n",
       "</style>\n",
       "<table border=\"1\" class=\"dataframe\">\n",
       "  <thead>\n",
       "    <tr style=\"text-align: right;\">\n",
       "      <th></th>\n",
       "      <th>id</th>\n",
       "      <th>target</th>\n",
       "    </tr>\n",
       "  </thead>\n",
       "  <tbody>\n",
       "    <tr>\n",
       "      <th>0</th>\n",
       "      <td>0</td>\n",
       "      <td>0</td>\n",
       "    </tr>\n",
       "    <tr>\n",
       "      <th>1</th>\n",
       "      <td>2</td>\n",
       "      <td>0</td>\n",
       "    </tr>\n",
       "    <tr>\n",
       "      <th>2</th>\n",
       "      <td>3</td>\n",
       "      <td>0</td>\n",
       "    </tr>\n",
       "    <tr>\n",
       "      <th>3</th>\n",
       "      <td>9</td>\n",
       "      <td>0</td>\n",
       "    </tr>\n",
       "    <tr>\n",
       "      <th>4</th>\n",
       "      <td>11</td>\n",
       "      <td>0</td>\n",
       "    </tr>\n",
       "    <tr>\n",
       "      <th>...</th>\n",
       "      <td>...</td>\n",
       "      <td>...</td>\n",
       "    </tr>\n",
       "    <tr>\n",
       "      <th>3258</th>\n",
       "      <td>10861</td>\n",
       "      <td>0</td>\n",
       "    </tr>\n",
       "    <tr>\n",
       "      <th>3259</th>\n",
       "      <td>10865</td>\n",
       "      <td>0</td>\n",
       "    </tr>\n",
       "    <tr>\n",
       "      <th>3260</th>\n",
       "      <td>10868</td>\n",
       "      <td>0</td>\n",
       "    </tr>\n",
       "    <tr>\n",
       "      <th>3261</th>\n",
       "      <td>10874</td>\n",
       "      <td>0</td>\n",
       "    </tr>\n",
       "    <tr>\n",
       "      <th>3262</th>\n",
       "      <td>10875</td>\n",
       "      <td>0</td>\n",
       "    </tr>\n",
       "  </tbody>\n",
       "</table>\n",
       "<p>3263 rows × 2 columns</p>\n",
       "</div>"
      ],
      "text/plain": [
       "         id  target\n",
       "0         0       0\n",
       "1         2       0\n",
       "2         3       0\n",
       "3         9       0\n",
       "4        11       0\n",
       "...     ...     ...\n",
       "3258  10861       0\n",
       "3259  10865       0\n",
       "3260  10868       0\n",
       "3261  10874       0\n",
       "3262  10875       0\n",
       "\n",
       "[3263 rows x 2 columns]"
      ]
     },
     "execution_count": 9,
     "metadata": {},
     "output_type": "execute_result"
    }
   ],
   "source": [
    "sample_submission"
   ]
  },
  {
   "cell_type": "markdown",
   "id": "019c66e3",
   "metadata": {
    "ExecuteTime": {
     "end_time": "2023-03-24T19:07:14.720827Z",
     "start_time": "2023-03-24T19:07:14.709833Z"
    },
    "papermill": {
     "duration": 0.019988,
     "end_time": "2023-03-25T10:51:51.543819",
     "exception": false,
     "start_time": "2023-03-25T10:51:51.523831",
     "status": "completed"
    },
    "tags": []
   },
   "source": [
    "# Data exploration"
   ]
  },
  {
   "cell_type": "code",
   "execution_count": 10,
   "id": "d386e59f",
   "metadata": {
    "ExecuteTime": {
     "end_time": "2023-03-25T09:55:54.149864Z",
     "start_time": "2023-03-25T09:55:54.141166Z"
    },
    "execution": {
     "iopub.execute_input": "2023-03-25T10:51:51.585235Z",
     "iopub.status.busy": "2023-03-25T10:51:51.584459Z",
     "iopub.status.idle": "2023-03-25T10:51:51.598432Z",
     "shell.execute_reply": "2023-03-25T10:51:51.597157Z"
    },
    "papermill": {
     "duration": 0.038385,
     "end_time": "2023-03-25T10:51:51.600953",
     "exception": false,
     "start_time": "2023-03-25T10:51:51.562568",
     "status": "completed"
    },
    "tags": []
   },
   "outputs": [
    {
     "data": {
      "text/plain": [
       "0    4342\n",
       "1    3271\n",
       "Name: target, dtype: int64"
      ]
     },
     "execution_count": 10,
     "metadata": {},
     "output_type": "execute_result"
    }
   ],
   "source": [
    "train['target'].value_counts()"
   ]
  },
  {
   "cell_type": "code",
   "execution_count": 11,
   "id": "929ddf27",
   "metadata": {
    "ExecuteTime": {
     "end_time": "2023-03-25T09:55:54.165050Z",
     "start_time": "2023-03-25T09:55:54.153053Z"
    },
    "execution": {
     "iopub.execute_input": "2023-03-25T10:51:51.642488Z",
     "iopub.status.busy": "2023-03-25T10:51:51.641811Z",
     "iopub.status.idle": "2023-03-25T10:51:51.652168Z",
     "shell.execute_reply": "2023-03-25T10:51:51.650722Z"
    },
    "papermill": {
     "duration": 0.034113,
     "end_time": "2023-03-25T10:51:51.654981",
     "exception": false,
     "start_time": "2023-03-25T10:51:51.620868",
     "status": "completed"
    },
    "tags": []
   },
   "outputs": [
    {
     "data": {
      "text/plain": [
       "NaN                      61\n",
       "fatalities               45\n",
       "deluge                   42\n",
       "armageddon               42\n",
       "sinking                  41\n",
       "                         ..\n",
       "forest%20fire            19\n",
       "epicentre                12\n",
       "threat                   11\n",
       "inundation               10\n",
       "radiation%20emergency     9\n",
       "Name: keyword, Length: 222, dtype: int64"
      ]
     },
     "execution_count": 11,
     "metadata": {},
     "output_type": "execute_result"
    }
   ],
   "source": [
    "train['keyword'].value_counts(dropna=False)"
   ]
  },
  {
   "cell_type": "code",
   "execution_count": 12,
   "id": "e1550578",
   "metadata": {
    "ExecuteTime": {
     "end_time": "2023-03-25T09:55:54.181037Z",
     "start_time": "2023-03-25T09:55:54.166040Z"
    },
    "execution": {
     "iopub.execute_input": "2023-03-25T10:51:51.698355Z",
     "iopub.status.busy": "2023-03-25T10:51:51.697132Z",
     "iopub.status.idle": "2023-03-25T10:51:51.709784Z",
     "shell.execute_reply": "2023-03-25T10:51:51.708600Z"
    },
    "papermill": {
     "duration": 0.036274,
     "end_time": "2023-03-25T10:51:51.712468",
     "exception": false,
     "start_time": "2023-03-25T10:51:51.676194",
     "status": "completed"
    },
    "tags": []
   },
   "outputs": [
    {
     "data": {
      "text/plain": [
       "NaN                  2533\n",
       "USA                   104\n",
       "New York               71\n",
       "United States          50\n",
       "London                 45\n",
       "Canada                 29\n",
       "Nigeria                28\n",
       "UK                     27\n",
       "Los Angeles, CA        26\n",
       "India                  24\n",
       "Mumbai                 22\n",
       "Washington, DC         21\n",
       "Kenya                  20\n",
       "Worldwide              19\n",
       "Chicago, IL            18\n",
       "Australia              18\n",
       "California             17\n",
       "New York, NY           15\n",
       "Everywhere             15\n",
       "California, USA        15\n",
       "San Francisco          14\n",
       "United Kingdom         14\n",
       "Florida                14\n",
       "Indonesia              13\n",
       "Washington, D.C.       13\n",
       "Los Angeles            13\n",
       "NYC                    12\n",
       "Ireland                12\n",
       "Toronto                12\n",
       "Earth                  11\n",
       "Seattle                11\n",
       "Chicago                11\n",
       "San Francisco, CA      11\n",
       "London, England        10\n",
       "Atlanta, GA            10\n",
       "ss                     10\n",
       "Sacramento, CA         10\n",
       "New York City          10\n",
       "Texas                  10\n",
       "London, UK             10\n",
       "San Diego, CA           9\n",
       "Dallas, TX              9\n",
       "304                     9\n",
       "Nashville, TN           9\n",
       "Denver, Colorado        9\n",
       "World                   9\n",
       "US                      9\n",
       "Manchester              9\n",
       "Scotland                8\n",
       "Houston, TX             8\n",
       "Name: location, dtype: int64"
      ]
     },
     "execution_count": 12,
     "metadata": {},
     "output_type": "execute_result"
    }
   ],
   "source": [
    "train['location'].value_counts(dropna=False)[0:50]"
   ]
  },
  {
   "cell_type": "code",
   "execution_count": 13,
   "id": "be2f0819",
   "metadata": {
    "ExecuteTime": {
     "end_time": "2023-03-25T09:55:54.212507Z",
     "start_time": "2023-03-25T09:55:54.183505Z"
    },
    "execution": {
     "iopub.execute_input": "2023-03-25T10:51:51.753869Z",
     "iopub.status.busy": "2023-03-25T10:51:51.752972Z",
     "iopub.status.idle": "2023-03-25T10:51:51.782904Z",
     "shell.execute_reply": "2023-03-25T10:51:51.781634Z"
    },
    "papermill": {
     "duration": 0.053629,
     "end_time": "2023-03-25T10:51:51.785914",
     "exception": false,
     "start_time": "2023-03-25T10:51:51.732285",
     "status": "completed"
    },
    "tags": []
   },
   "outputs": [
    {
     "data": {
      "text/html": [
       "<div>\n",
       "<style scoped>\n",
       "    .dataframe tbody tr th:only-of-type {\n",
       "        vertical-align: middle;\n",
       "    }\n",
       "\n",
       "    .dataframe tbody tr th {\n",
       "        vertical-align: top;\n",
       "    }\n",
       "\n",
       "    .dataframe thead th {\n",
       "        text-align: right;\n",
       "    }\n",
       "</style>\n",
       "<table border=\"1\" class=\"dataframe\">\n",
       "  <thead>\n",
       "    <tr style=\"text-align: right;\">\n",
       "      <th></th>\n",
       "      <th>keyword</th>\n",
       "      <th>location</th>\n",
       "      <th>text</th>\n",
       "    </tr>\n",
       "  </thead>\n",
       "  <tbody>\n",
       "    <tr>\n",
       "      <th>count</th>\n",
       "      <td>7552</td>\n",
       "      <td>5080</td>\n",
       "      <td>7613</td>\n",
       "    </tr>\n",
       "    <tr>\n",
       "      <th>unique</th>\n",
       "      <td>221</td>\n",
       "      <td>3341</td>\n",
       "      <td>7503</td>\n",
       "    </tr>\n",
       "    <tr>\n",
       "      <th>top</th>\n",
       "      <td>fatalities</td>\n",
       "      <td>USA</td>\n",
       "      <td>11-Year-Old Boy Charged With Manslaughter of T...</td>\n",
       "    </tr>\n",
       "    <tr>\n",
       "      <th>freq</th>\n",
       "      <td>45</td>\n",
       "      <td>104</td>\n",
       "      <td>10</td>\n",
       "    </tr>\n",
       "  </tbody>\n",
       "</table>\n",
       "</div>"
      ],
      "text/plain": [
       "           keyword location                                               text\n",
       "count         7552     5080                                               7613\n",
       "unique         221     3341                                               7503\n",
       "top     fatalities      USA  11-Year-Old Boy Charged With Manslaughter of T...\n",
       "freq            45      104                                                 10"
      ]
     },
     "execution_count": 13,
     "metadata": {},
     "output_type": "execute_result"
    }
   ],
   "source": [
    "train.describe(include=['O'])"
   ]
  },
  {
   "cell_type": "markdown",
   "id": "c6a8487e",
   "metadata": {
    "papermill": {
     "duration": 0.019388,
     "end_time": "2023-03-25T10:51:51.824735",
     "exception": false,
     "start_time": "2023-03-25T10:51:51.805347",
     "status": "completed"
    },
    "tags": []
   },
   "source": [
    "# Data transformations\n"
   ]
  },
  {
   "cell_type": "code",
   "execution_count": 14,
   "id": "78bef75c",
   "metadata": {
    "ExecuteTime": {
     "end_time": "2023-03-25T09:55:54.227527Z",
     "start_time": "2023-03-25T09:55:54.213505Z"
    },
    "execution": {
     "iopub.execute_input": "2023-03-25T10:51:51.866134Z",
     "iopub.status.busy": "2023-03-25T10:51:51.865737Z",
     "iopub.status.idle": "2023-03-25T10:51:51.871622Z",
     "shell.execute_reply": "2023-03-25T10:51:51.870263Z"
    },
    "papermill": {
     "duration": 0.029582,
     "end_time": "2023-03-25T10:51:51.874113",
     "exception": false,
     "start_time": "2023-03-25T10:51:51.844531",
     "status": "completed"
    },
    "tags": []
   },
   "outputs": [],
   "source": [
    "col_target='target'\n",
    "col_exclude=[\n",
    "'Id',\n",
    "col_target\n",
    "]"
   ]
  },
  {
   "cell_type": "markdown",
   "id": "d36b48e6",
   "metadata": {
    "papermill": {
     "duration": 0.020625,
     "end_time": "2023-03-25T10:51:51.914902",
     "exception": false,
     "start_time": "2023-03-25T10:51:51.894277",
     "status": "completed"
    },
    "tags": []
   },
   "source": [
    "## Categorical transformations\n"
   ]
  },
  {
   "cell_type": "code",
   "execution_count": 15,
   "id": "7ff4ed54",
   "metadata": {
    "ExecuteTime": {
     "end_time": "2023-03-25T09:55:54.322503Z",
     "start_time": "2023-03-25T09:55:54.228534Z"
    },
    "execution": {
     "iopub.execute_input": "2023-03-25T10:51:51.956271Z",
     "iopub.status.busy": "2023-03-25T10:51:51.955018Z",
     "iopub.status.idle": "2023-03-25T10:51:52.470943Z",
     "shell.execute_reply": "2023-03-25T10:51:52.469579Z"
    },
    "papermill": {
     "duration": 0.539378,
     "end_time": "2023-03-25T10:51:52.473874",
     "exception": false,
     "start_time": "2023-03-25T10:51:51.934496",
     "status": "completed"
    },
    "tags": []
   },
   "outputs": [],
   "source": [
    "import category_encoders as ce"
   ]
  },
  {
   "cell_type": "code",
   "execution_count": 16,
   "id": "6969d489",
   "metadata": {
    "ExecuteTime": {
     "end_time": "2023-03-25T09:55:54.353681Z",
     "start_time": "2023-03-25T09:55:54.324505Z"
    },
    "execution": {
     "iopub.execute_input": "2023-03-25T10:51:52.515985Z",
     "iopub.status.busy": "2023-03-25T10:51:52.515515Z",
     "iopub.status.idle": "2023-03-25T10:51:52.563042Z",
     "shell.execute_reply": "2023-03-25T10:51:52.561850Z"
    },
    "papermill": {
     "duration": 0.071395,
     "end_time": "2023-03-25T10:51:52.566006",
     "exception": false,
     "start_time": "2023-03-25T10:51:52.494611",
     "status": "completed"
    },
    "tags": []
   },
   "outputs": [],
   "source": [
    "# bayesian target encoding\n",
    "encoder = ce.TargetEncoder(min_samples_leaf=1, smoothing=1.0)\n",
    "encoder.fit_transform(train['keyword'], train[col_target])\n",
    "\n",
    "train = pd.concat([train, encoder.transform(train['keyword']).add_prefix(\"BAYES_\")], axis=1)\n",
    "test = pd.concat([test, encoder.transform(test['keyword']).add_prefix(\"BAYES_\")], axis=1)"
   ]
  },
  {
   "cell_type": "markdown",
   "id": "9e1dd707",
   "metadata": {
    "papermill": {
     "duration": 0.018804,
     "end_time": "2023-03-25T10:51:52.604024",
     "exception": false,
     "start_time": "2023-03-25T10:51:52.585220",
     "status": "completed"
    },
    "tags": []
   },
   "source": [
    "## Text related transformations"
   ]
  },
  {
   "cell_type": "code",
   "execution_count": 17,
   "id": "4c937dfb",
   "metadata": {
    "ExecuteTime": {
     "end_time": "2023-03-25T09:55:54.369694Z",
     "start_time": "2023-03-25T09:55:54.354682Z"
    },
    "execution": {
     "iopub.execute_input": "2023-03-25T10:51:52.646158Z",
     "iopub.status.busy": "2023-03-25T10:51:52.645729Z",
     "iopub.status.idle": "2023-03-25T10:51:52.673091Z",
     "shell.execute_reply": "2023-03-25T10:51:52.671681Z"
    },
    "papermill": {
     "duration": 0.052383,
     "end_time": "2023-03-25T10:51:52.676101",
     "exception": false,
     "start_time": "2023-03-25T10:51:52.623718",
     "status": "completed"
    },
    "tags": []
   },
   "outputs": [
    {
     "data": {
      "text/html": [
       "<div>\n",
       "<style scoped>\n",
       "    .dataframe tbody tr th:only-of-type {\n",
       "        vertical-align: middle;\n",
       "    }\n",
       "\n",
       "    .dataframe tbody tr th {\n",
       "        vertical-align: top;\n",
       "    }\n",
       "\n",
       "    .dataframe thead th {\n",
       "        text-align: right;\n",
       "    }\n",
       "</style>\n",
       "<table border=\"1\" class=\"dataframe\">\n",
       "  <thead>\n",
       "    <tr style=\"text-align: right;\">\n",
       "      <th></th>\n",
       "      <th>id</th>\n",
       "      <th>keyword</th>\n",
       "      <th>location</th>\n",
       "      <th>text</th>\n",
       "      <th>target</th>\n",
       "      <th>BAYES_keyword</th>\n",
       "      <th>text_len</th>\n",
       "    </tr>\n",
       "  </thead>\n",
       "  <tbody>\n",
       "    <tr>\n",
       "      <th>0</th>\n",
       "      <td>1</td>\n",
       "      <td>NaN</td>\n",
       "      <td>NaN</td>\n",
       "      <td>Our Deeds are the Reason of this #earthquake M...</td>\n",
       "      <td>1</td>\n",
       "      <td>0.688525</td>\n",
       "      <td>13</td>\n",
       "    </tr>\n",
       "    <tr>\n",
       "      <th>1</th>\n",
       "      <td>4</td>\n",
       "      <td>NaN</td>\n",
       "      <td>NaN</td>\n",
       "      <td>Forest fire near La Ronge Sask. Canada</td>\n",
       "      <td>1</td>\n",
       "      <td>0.688525</td>\n",
       "      <td>7</td>\n",
       "    </tr>\n",
       "    <tr>\n",
       "      <th>2</th>\n",
       "      <td>5</td>\n",
       "      <td>NaN</td>\n",
       "      <td>NaN</td>\n",
       "      <td>All residents asked to 'shelter in place' are ...</td>\n",
       "      <td>1</td>\n",
       "      <td>0.688525</td>\n",
       "      <td>22</td>\n",
       "    </tr>\n",
       "    <tr>\n",
       "      <th>3</th>\n",
       "      <td>6</td>\n",
       "      <td>NaN</td>\n",
       "      <td>NaN</td>\n",
       "      <td>13,000 people receive #wildfires evacuation or...</td>\n",
       "      <td>1</td>\n",
       "      <td>0.688525</td>\n",
       "      <td>9</td>\n",
       "    </tr>\n",
       "    <tr>\n",
       "      <th>4</th>\n",
       "      <td>7</td>\n",
       "      <td>NaN</td>\n",
       "      <td>NaN</td>\n",
       "      <td>Just got sent this photo from Ruby #Alaska as ...</td>\n",
       "      <td>1</td>\n",
       "      <td>0.688525</td>\n",
       "      <td>17</td>\n",
       "    </tr>\n",
       "  </tbody>\n",
       "</table>\n",
       "</div>"
      ],
      "text/plain": [
       "   id keyword location                                               text  \\\n",
       "0   1     NaN      NaN  Our Deeds are the Reason of this #earthquake M...   \n",
       "1   4     NaN      NaN             Forest fire near La Ronge Sask. Canada   \n",
       "2   5     NaN      NaN  All residents asked to 'shelter in place' are ...   \n",
       "3   6     NaN      NaN  13,000 people receive #wildfires evacuation or...   \n",
       "4   7     NaN      NaN  Just got sent this photo from Ruby #Alaska as ...   \n",
       "\n",
       "   target  BAYES_keyword  text_len  \n",
       "0       1       0.688525        13  \n",
       "1       1       0.688525         7  \n",
       "2       1       0.688525        22  \n",
       "3       1       0.688525         9  \n",
       "4       1       0.688525        17  "
      ]
     },
     "execution_count": 17,
     "metadata": {},
     "output_type": "execute_result"
    }
   ],
   "source": [
    "train['text_len'] = train['text'].apply(lambda x: len(x.split(' ')))\n",
    "train.head()"
   ]
  },
  {
   "cell_type": "code",
   "execution_count": 18,
   "id": "03c41a4b",
   "metadata": {
    "ExecuteTime": {
     "end_time": "2023-03-25T09:55:54.385689Z",
     "start_time": "2023-03-25T09:55:54.370683Z"
    },
    "execution": {
     "iopub.execute_input": "2023-03-25T10:51:52.717584Z",
     "iopub.status.busy": "2023-03-25T10:51:52.717148Z",
     "iopub.status.idle": "2023-03-25T10:51:52.736668Z",
     "shell.execute_reply": "2023-03-25T10:51:52.735285Z"
    },
    "papermill": {
     "duration": 0.043228,
     "end_time": "2023-03-25T10:51:52.739286",
     "exception": false,
     "start_time": "2023-03-25T10:51:52.696058",
     "status": "completed"
    },
    "tags": []
   },
   "outputs": [
    {
     "data": {
      "text/html": [
       "<div>\n",
       "<style scoped>\n",
       "    .dataframe tbody tr th:only-of-type {\n",
       "        vertical-align: middle;\n",
       "    }\n",
       "\n",
       "    .dataframe tbody tr th {\n",
       "        vertical-align: top;\n",
       "    }\n",
       "\n",
       "    .dataframe thead th {\n",
       "        text-align: right;\n",
       "    }\n",
       "</style>\n",
       "<table border=\"1\" class=\"dataframe\">\n",
       "  <thead>\n",
       "    <tr style=\"text-align: right;\">\n",
       "      <th></th>\n",
       "      <th>id</th>\n",
       "      <th>keyword</th>\n",
       "      <th>location</th>\n",
       "      <th>text</th>\n",
       "      <th>BAYES_keyword</th>\n",
       "      <th>text_len</th>\n",
       "    </tr>\n",
       "  </thead>\n",
       "  <tbody>\n",
       "    <tr>\n",
       "      <th>0</th>\n",
       "      <td>0</td>\n",
       "      <td>NaN</td>\n",
       "      <td>NaN</td>\n",
       "      <td>Just happened a terrible car crash</td>\n",
       "      <td>0.688525</td>\n",
       "      <td>6</td>\n",
       "    </tr>\n",
       "    <tr>\n",
       "      <th>1</th>\n",
       "      <td>2</td>\n",
       "      <td>NaN</td>\n",
       "      <td>NaN</td>\n",
       "      <td>Heard about #earthquake is different cities, s...</td>\n",
       "      <td>0.688525</td>\n",
       "      <td>9</td>\n",
       "    </tr>\n",
       "    <tr>\n",
       "      <th>2</th>\n",
       "      <td>3</td>\n",
       "      <td>NaN</td>\n",
       "      <td>NaN</td>\n",
       "      <td>there is a forest fire at spot pond, geese are...</td>\n",
       "      <td>0.688525</td>\n",
       "      <td>19</td>\n",
       "    </tr>\n",
       "    <tr>\n",
       "      <th>3</th>\n",
       "      <td>9</td>\n",
       "      <td>NaN</td>\n",
       "      <td>NaN</td>\n",
       "      <td>Apocalypse lighting. #Spokane #wildfires</td>\n",
       "      <td>0.688525</td>\n",
       "      <td>4</td>\n",
       "    </tr>\n",
       "    <tr>\n",
       "      <th>4</th>\n",
       "      <td>11</td>\n",
       "      <td>NaN</td>\n",
       "      <td>NaN</td>\n",
       "      <td>Typhoon Soudelor kills 28 in China and Taiwan</td>\n",
       "      <td>0.688525</td>\n",
       "      <td>8</td>\n",
       "    </tr>\n",
       "  </tbody>\n",
       "</table>\n",
       "</div>"
      ],
      "text/plain": [
       "   id keyword location                                               text  \\\n",
       "0   0     NaN      NaN                 Just happened a terrible car crash   \n",
       "1   2     NaN      NaN  Heard about #earthquake is different cities, s...   \n",
       "2   3     NaN      NaN  there is a forest fire at spot pond, geese are...   \n",
       "3   9     NaN      NaN           Apocalypse lighting. #Spokane #wildfires   \n",
       "4  11     NaN      NaN      Typhoon Soudelor kills 28 in China and Taiwan   \n",
       "\n",
       "   BAYES_keyword  text_len  \n",
       "0       0.688525         6  \n",
       "1       0.688525         9  \n",
       "2       0.688525        19  \n",
       "3       0.688525         4  \n",
       "4       0.688525         8  "
      ]
     },
     "execution_count": 18,
     "metadata": {},
     "output_type": "execute_result"
    }
   ],
   "source": [
    "test['text_len'] = test['text'].apply(lambda x: len(x.split(' ')))\n",
    "test.head()"
   ]
  },
  {
   "cell_type": "code",
   "execution_count": 19,
   "id": "986dd12f",
   "metadata": {
    "ExecuteTime": {
     "end_time": "2023-03-25T09:55:54.400900Z",
     "start_time": "2023-03-25T09:55:54.386681Z"
    },
    "execution": {
     "iopub.execute_input": "2023-03-25T10:51:52.781093Z",
     "iopub.status.busy": "2023-03-25T10:51:52.780706Z",
     "iopub.status.idle": "2023-03-25T10:51:52.789340Z",
     "shell.execute_reply": "2023-03-25T10:51:52.787847Z"
    },
    "papermill": {
     "duration": 0.033176,
     "end_time": "2023-03-25T10:51:52.792121",
     "exception": false,
     "start_time": "2023-03-25T10:51:52.758945",
     "status": "completed"
    },
    "tags": []
   },
   "outputs": [
    {
     "data": {
      "text/plain": [
       "54"
      ]
     },
     "execution_count": 19,
     "metadata": {},
     "output_type": "execute_result"
    }
   ],
   "source": [
    "max(train['text_len'])"
   ]
  },
  {
   "cell_type": "code",
   "execution_count": 20,
   "id": "3ccc894a",
   "metadata": {
    "ExecuteTime": {
     "end_time": "2023-03-25T09:55:54.416891Z",
     "start_time": "2023-03-25T09:55:54.401888Z"
    },
    "execution": {
     "iopub.execute_input": "2023-03-25T10:51:52.833844Z",
     "iopub.status.busy": "2023-03-25T10:51:52.833383Z",
     "iopub.status.idle": "2023-03-25T10:51:52.852101Z",
     "shell.execute_reply": "2023-03-25T10:51:52.850873Z"
    },
    "papermill": {
     "duration": 0.04245,
     "end_time": "2023-03-25T10:51:52.854809",
     "exception": false,
     "start_time": "2023-03-25T10:51:52.812359",
     "status": "completed"
    },
    "tags": []
   },
   "outputs": [
    {
     "data": {
      "text/html": [
       "<div>\n",
       "<style scoped>\n",
       "    .dataframe tbody tr th:only-of-type {\n",
       "        vertical-align: middle;\n",
       "    }\n",
       "\n",
       "    .dataframe tbody tr th {\n",
       "        vertical-align: top;\n",
       "    }\n",
       "\n",
       "    .dataframe thead th {\n",
       "        text-align: right;\n",
       "    }\n",
       "</style>\n",
       "<table border=\"1\" class=\"dataframe\">\n",
       "  <thead>\n",
       "    <tr style=\"text-align: right;\">\n",
       "      <th></th>\n",
       "      <th>id</th>\n",
       "      <th>keyword</th>\n",
       "      <th>location</th>\n",
       "      <th>text</th>\n",
       "      <th>target</th>\n",
       "      <th>BAYES_keyword</th>\n",
       "      <th>text_len</th>\n",
       "    </tr>\n",
       "  </thead>\n",
       "  <tbody>\n",
       "    <tr>\n",
       "      <th>0</th>\n",
       "      <td>1</td>\n",
       "      <td>NaN</td>\n",
       "      <td>NaN</td>\n",
       "      <td>Our Deeds are the Reason of this #earthquake M...</td>\n",
       "      <td>1</td>\n",
       "      <td>0.688525</td>\n",
       "      <td>13</td>\n",
       "    </tr>\n",
       "    <tr>\n",
       "      <th>1</th>\n",
       "      <td>4</td>\n",
       "      <td>NaN</td>\n",
       "      <td>NaN</td>\n",
       "      <td>Forest fire near La Ronge Sask. Canada</td>\n",
       "      <td>1</td>\n",
       "      <td>0.688525</td>\n",
       "      <td>7</td>\n",
       "    </tr>\n",
       "    <tr>\n",
       "      <th>2</th>\n",
       "      <td>5</td>\n",
       "      <td>NaN</td>\n",
       "      <td>NaN</td>\n",
       "      <td>All residents asked to 'shelter in place' are ...</td>\n",
       "      <td>1</td>\n",
       "      <td>0.688525</td>\n",
       "      <td>22</td>\n",
       "    </tr>\n",
       "    <tr>\n",
       "      <th>3</th>\n",
       "      <td>6</td>\n",
       "      <td>NaN</td>\n",
       "      <td>NaN</td>\n",
       "      <td>13,000 people receive #wildfires evacuation or...</td>\n",
       "      <td>1</td>\n",
       "      <td>0.688525</td>\n",
       "      <td>9</td>\n",
       "    </tr>\n",
       "    <tr>\n",
       "      <th>4</th>\n",
       "      <td>7</td>\n",
       "      <td>NaN</td>\n",
       "      <td>NaN</td>\n",
       "      <td>Just got sent this photo from Ruby #Alaska as ...</td>\n",
       "      <td>1</td>\n",
       "      <td>0.688525</td>\n",
       "      <td>17</td>\n",
       "    </tr>\n",
       "    <tr>\n",
       "      <th>...</th>\n",
       "      <td>...</td>\n",
       "      <td>...</td>\n",
       "      <td>...</td>\n",
       "      <td>...</td>\n",
       "      <td>...</td>\n",
       "      <td>...</td>\n",
       "      <td>...</td>\n",
       "    </tr>\n",
       "    <tr>\n",
       "      <th>7608</th>\n",
       "      <td>10869</td>\n",
       "      <td>NaN</td>\n",
       "      <td>NaN</td>\n",
       "      <td>Two giant cranes holding a bridge collapse int...</td>\n",
       "      <td>1</td>\n",
       "      <td>0.688525</td>\n",
       "      <td>11</td>\n",
       "    </tr>\n",
       "    <tr>\n",
       "      <th>7609</th>\n",
       "      <td>10870</td>\n",
       "      <td>NaN</td>\n",
       "      <td>NaN</td>\n",
       "      <td>@aria_ahrary @TheTawniest The out of control w...</td>\n",
       "      <td>1</td>\n",
       "      <td>0.688525</td>\n",
       "      <td>20</td>\n",
       "    </tr>\n",
       "    <tr>\n",
       "      <th>7610</th>\n",
       "      <td>10871</td>\n",
       "      <td>NaN</td>\n",
       "      <td>NaN</td>\n",
       "      <td>M1.94 [01:04 UTC]?5km S of Volcano Hawaii. htt...</td>\n",
       "      <td>1</td>\n",
       "      <td>0.688525</td>\n",
       "      <td>8</td>\n",
       "    </tr>\n",
       "    <tr>\n",
       "      <th>7611</th>\n",
       "      <td>10872</td>\n",
       "      <td>NaN</td>\n",
       "      <td>NaN</td>\n",
       "      <td>Police investigating after an e-bike collided ...</td>\n",
       "      <td>1</td>\n",
       "      <td>0.688525</td>\n",
       "      <td>19</td>\n",
       "    </tr>\n",
       "    <tr>\n",
       "      <th>7612</th>\n",
       "      <td>10873</td>\n",
       "      <td>NaN</td>\n",
       "      <td>NaN</td>\n",
       "      <td>The Latest: More Homes Razed by Northern Calif...</td>\n",
       "      <td>1</td>\n",
       "      <td>0.688525</td>\n",
       "      <td>13</td>\n",
       "    </tr>\n",
       "  </tbody>\n",
       "</table>\n",
       "<p>7613 rows × 7 columns</p>\n",
       "</div>"
      ],
      "text/plain": [
       "         id keyword location  \\\n",
       "0         1     NaN      NaN   \n",
       "1         4     NaN      NaN   \n",
       "2         5     NaN      NaN   \n",
       "3         6     NaN      NaN   \n",
       "4         7     NaN      NaN   \n",
       "...     ...     ...      ...   \n",
       "7608  10869     NaN      NaN   \n",
       "7609  10870     NaN      NaN   \n",
       "7610  10871     NaN      NaN   \n",
       "7611  10872     NaN      NaN   \n",
       "7612  10873     NaN      NaN   \n",
       "\n",
       "                                                   text  target  \\\n",
       "0     Our Deeds are the Reason of this #earthquake M...       1   \n",
       "1                Forest fire near La Ronge Sask. Canada       1   \n",
       "2     All residents asked to 'shelter in place' are ...       1   \n",
       "3     13,000 people receive #wildfires evacuation or...       1   \n",
       "4     Just got sent this photo from Ruby #Alaska as ...       1   \n",
       "...                                                 ...     ...   \n",
       "7608  Two giant cranes holding a bridge collapse int...       1   \n",
       "7609  @aria_ahrary @TheTawniest The out of control w...       1   \n",
       "7610  M1.94 [01:04 UTC]?5km S of Volcano Hawaii. htt...       1   \n",
       "7611  Police investigating after an e-bike collided ...       1   \n",
       "7612  The Latest: More Homes Razed by Northern Calif...       1   \n",
       "\n",
       "      BAYES_keyword  text_len  \n",
       "0          0.688525        13  \n",
       "1          0.688525         7  \n",
       "2          0.688525        22  \n",
       "3          0.688525         9  \n",
       "4          0.688525        17  \n",
       "...             ...       ...  \n",
       "7608       0.688525        11  \n",
       "7609       0.688525        20  \n",
       "7610       0.688525         8  \n",
       "7611       0.688525        19  \n",
       "7612       0.688525        13  \n",
       "\n",
       "[7613 rows x 7 columns]"
      ]
     },
     "execution_count": 20,
     "metadata": {},
     "output_type": "execute_result"
    }
   ],
   "source": [
    "train"
   ]
  },
  {
   "cell_type": "markdown",
   "id": "6b33750f",
   "metadata": {
    "papermill": {
     "duration": 0.019485,
     "end_time": "2023-03-25T10:51:52.894742",
     "exception": false,
     "start_time": "2023-03-25T10:51:52.875257",
     "status": "completed"
    },
    "tags": []
   },
   "source": [
    "### Text cleaning"
   ]
  },
  {
   "cell_type": "code",
   "execution_count": 21,
   "id": "6ac9dab4",
   "metadata": {
    "ExecuteTime": {
     "end_time": "2023-03-25T09:55:54.431887Z",
     "start_time": "2023-03-25T09:55:54.418888Z"
    },
    "execution": {
     "iopub.execute_input": "2023-03-25T10:51:52.936489Z",
     "iopub.status.busy": "2023-03-25T10:51:52.936057Z",
     "iopub.status.idle": "2023-03-25T10:51:52.943865Z",
     "shell.execute_reply": "2023-03-25T10:51:52.942672Z"
    },
    "papermill": {
     "duration": 0.031744,
     "end_time": "2023-03-25T10:51:52.946423",
     "exception": false,
     "start_time": "2023-03-25T10:51:52.914679",
     "status": "completed"
    },
    "tags": []
   },
   "outputs": [],
   "source": [
    "# Special thanks to https://www.kaggle.com/tanulsingh077 for this function\n",
    "def clean_text(text):\n",
    "    '''Make text lowercase, remove text in square brackets,remove links,remove punctuation\n",
    "    and remove words containing numbers.'''\n",
    "    text = str(text).lower()\n",
    "    text = re.sub('\\[.*?\\]', '', text)\n",
    "    text = re.sub('https?://\\S+|www\\.\\S+', '', text)\n",
    "    text = re.sub('<.*?>+', '', text)\n",
    "    text = re.sub('[%s]' % re.escape(string.punctuation), '', text)\n",
    "    text = re.sub('\\n', '', text)\n",
    "    text = re.sub('\\w*\\d\\w*', '', text)\n",
    "    return text"
   ]
  },
  {
   "cell_type": "code",
   "execution_count": 22,
   "id": "5a7c4c2a",
   "metadata": {
    "ExecuteTime": {
     "end_time": "2023-03-25T09:55:54.557773Z",
     "start_time": "2023-03-25T09:55:54.432887Z"
    },
    "execution": {
     "iopub.execute_input": "2023-03-25T10:51:52.989823Z",
     "iopub.status.busy": "2023-03-25T10:51:52.989380Z",
     "iopub.status.idle": "2023-03-25T10:51:53.187274Z",
     "shell.execute_reply": "2023-03-25T10:51:53.185895Z"
    },
    "papermill": {
     "duration": 0.22269,
     "end_time": "2023-03-25T10:51:53.189975",
     "exception": false,
     "start_time": "2023-03-25T10:51:52.967285",
     "status": "completed"
    },
    "tags": []
   },
   "outputs": [
    {
     "data": {
      "text/html": [
       "<div>\n",
       "<style scoped>\n",
       "    .dataframe tbody tr th:only-of-type {\n",
       "        vertical-align: middle;\n",
       "    }\n",
       "\n",
       "    .dataframe tbody tr th {\n",
       "        vertical-align: top;\n",
       "    }\n",
       "\n",
       "    .dataframe thead th {\n",
       "        text-align: right;\n",
       "    }\n",
       "</style>\n",
       "<table border=\"1\" class=\"dataframe\">\n",
       "  <thead>\n",
       "    <tr style=\"text-align: right;\">\n",
       "      <th></th>\n",
       "      <th>id</th>\n",
       "      <th>keyword</th>\n",
       "      <th>location</th>\n",
       "      <th>text</th>\n",
       "      <th>target</th>\n",
       "      <th>BAYES_keyword</th>\n",
       "      <th>text_len</th>\n",
       "      <th>text_clean</th>\n",
       "    </tr>\n",
       "  </thead>\n",
       "  <tbody>\n",
       "    <tr>\n",
       "      <th>0</th>\n",
       "      <td>1</td>\n",
       "      <td>NaN</td>\n",
       "      <td>NaN</td>\n",
       "      <td>Our Deeds are the Reason of this #earthquake M...</td>\n",
       "      <td>1</td>\n",
       "      <td>0.688525</td>\n",
       "      <td>13</td>\n",
       "      <td>our deeds are the reason of this earthquake m...</td>\n",
       "    </tr>\n",
       "    <tr>\n",
       "      <th>1</th>\n",
       "      <td>4</td>\n",
       "      <td>NaN</td>\n",
       "      <td>NaN</td>\n",
       "      <td>Forest fire near La Ronge Sask. Canada</td>\n",
       "      <td>1</td>\n",
       "      <td>0.688525</td>\n",
       "      <td>7</td>\n",
       "      <td>forest fire near la ronge sask canada</td>\n",
       "    </tr>\n",
       "    <tr>\n",
       "      <th>2</th>\n",
       "      <td>5</td>\n",
       "      <td>NaN</td>\n",
       "      <td>NaN</td>\n",
       "      <td>All residents asked to 'shelter in place' are ...</td>\n",
       "      <td>1</td>\n",
       "      <td>0.688525</td>\n",
       "      <td>22</td>\n",
       "      <td>all residents asked to shelter in place are b...</td>\n",
       "    </tr>\n",
       "    <tr>\n",
       "      <th>3</th>\n",
       "      <td>6</td>\n",
       "      <td>NaN</td>\n",
       "      <td>NaN</td>\n",
       "      <td>13,000 people receive #wildfires evacuation or...</td>\n",
       "      <td>1</td>\n",
       "      <td>0.688525</td>\n",
       "      <td>9</td>\n",
       "      <td>people receive wildfires evacuation orders i...</td>\n",
       "    </tr>\n",
       "    <tr>\n",
       "      <th>4</th>\n",
       "      <td>7</td>\n",
       "      <td>NaN</td>\n",
       "      <td>NaN</td>\n",
       "      <td>Just got sent this photo from Ruby #Alaska as ...</td>\n",
       "      <td>1</td>\n",
       "      <td>0.688525</td>\n",
       "      <td>17</td>\n",
       "      <td>just got sent this photo from ruby alaska as ...</td>\n",
       "    </tr>\n",
       "  </tbody>\n",
       "</table>\n",
       "</div>"
      ],
      "text/plain": [
       "   id keyword location                                               text  \\\n",
       "0   1     NaN      NaN  Our Deeds are the Reason of this #earthquake M...   \n",
       "1   4     NaN      NaN             Forest fire near La Ronge Sask. Canada   \n",
       "2   5     NaN      NaN  All residents asked to 'shelter in place' are ...   \n",
       "3   6     NaN      NaN  13,000 people receive #wildfires evacuation or...   \n",
       "4   7     NaN      NaN  Just got sent this photo from Ruby #Alaska as ...   \n",
       "\n",
       "   target  BAYES_keyword  text_len  \\\n",
       "0       1       0.688525        13   \n",
       "1       1       0.688525         7   \n",
       "2       1       0.688525        22   \n",
       "3       1       0.688525         9   \n",
       "4       1       0.688525        17   \n",
       "\n",
       "                                          text_clean  \n",
       "0   our deeds are the reason of this earthquake m...  \n",
       "1              forest fire near la ronge sask canada  \n",
       "2   all residents asked to shelter in place are b...  \n",
       "3    people receive wildfires evacuation orders i...  \n",
       "4   just got sent this photo from ruby alaska as ...  "
      ]
     },
     "execution_count": 22,
     "metadata": {},
     "output_type": "execute_result"
    }
   ],
   "source": [
    "train['text_clean']=(train['location'].fillna('')+' '+train['text']).apply(clean_text)\n",
    "# train['text_clean'] = train['text'].apply(clean_text)\n",
    "train.head()"
   ]
  },
  {
   "cell_type": "code",
   "execution_count": 23,
   "id": "c13954c4",
   "metadata": {
    "ExecuteTime": {
     "end_time": "2023-03-25T09:55:54.619799Z",
     "start_time": "2023-03-25T09:55:54.558861Z"
    },
    "execution": {
     "iopub.execute_input": "2023-03-25T10:51:53.232352Z",
     "iopub.status.busy": "2023-03-25T10:51:53.231923Z",
     "iopub.status.idle": "2023-03-25T10:51:53.324872Z",
     "shell.execute_reply": "2023-03-25T10:51:53.323987Z"
    },
    "papermill": {
     "duration": 0.117087,
     "end_time": "2023-03-25T10:51:53.327332",
     "exception": false,
     "start_time": "2023-03-25T10:51:53.210245",
     "status": "completed"
    },
    "tags": []
   },
   "outputs": [
    {
     "data": {
      "text/html": [
       "<div>\n",
       "<style scoped>\n",
       "    .dataframe tbody tr th:only-of-type {\n",
       "        vertical-align: middle;\n",
       "    }\n",
       "\n",
       "    .dataframe tbody tr th {\n",
       "        vertical-align: top;\n",
       "    }\n",
       "\n",
       "    .dataframe thead th {\n",
       "        text-align: right;\n",
       "    }\n",
       "</style>\n",
       "<table border=\"1\" class=\"dataframe\">\n",
       "  <thead>\n",
       "    <tr style=\"text-align: right;\">\n",
       "      <th></th>\n",
       "      <th>id</th>\n",
       "      <th>keyword</th>\n",
       "      <th>location</th>\n",
       "      <th>text</th>\n",
       "      <th>BAYES_keyword</th>\n",
       "      <th>text_len</th>\n",
       "      <th>text_clean</th>\n",
       "    </tr>\n",
       "  </thead>\n",
       "  <tbody>\n",
       "    <tr>\n",
       "      <th>0</th>\n",
       "      <td>0</td>\n",
       "      <td>NaN</td>\n",
       "      <td>NaN</td>\n",
       "      <td>Just happened a terrible car crash</td>\n",
       "      <td>0.688525</td>\n",
       "      <td>6</td>\n",
       "      <td>just happened a terrible car crash</td>\n",
       "    </tr>\n",
       "    <tr>\n",
       "      <th>1</th>\n",
       "      <td>2</td>\n",
       "      <td>NaN</td>\n",
       "      <td>NaN</td>\n",
       "      <td>Heard about #earthquake is different cities, s...</td>\n",
       "      <td>0.688525</td>\n",
       "      <td>9</td>\n",
       "      <td>heard about earthquake is different cities st...</td>\n",
       "    </tr>\n",
       "    <tr>\n",
       "      <th>2</th>\n",
       "      <td>3</td>\n",
       "      <td>NaN</td>\n",
       "      <td>NaN</td>\n",
       "      <td>there is a forest fire at spot pond, geese are...</td>\n",
       "      <td>0.688525</td>\n",
       "      <td>19</td>\n",
       "      <td>there is a forest fire at spot pond geese are...</td>\n",
       "    </tr>\n",
       "    <tr>\n",
       "      <th>3</th>\n",
       "      <td>9</td>\n",
       "      <td>NaN</td>\n",
       "      <td>NaN</td>\n",
       "      <td>Apocalypse lighting. #Spokane #wildfires</td>\n",
       "      <td>0.688525</td>\n",
       "      <td>4</td>\n",
       "      <td>apocalypse lighting spokane wildfires</td>\n",
       "    </tr>\n",
       "    <tr>\n",
       "      <th>4</th>\n",
       "      <td>11</td>\n",
       "      <td>NaN</td>\n",
       "      <td>NaN</td>\n",
       "      <td>Typhoon Soudelor kills 28 in China and Taiwan</td>\n",
       "      <td>0.688525</td>\n",
       "      <td>8</td>\n",
       "      <td>typhoon soudelor kills  in china and taiwan</td>\n",
       "    </tr>\n",
       "  </tbody>\n",
       "</table>\n",
       "</div>"
      ],
      "text/plain": [
       "   id keyword location                                               text  \\\n",
       "0   0     NaN      NaN                 Just happened a terrible car crash   \n",
       "1   2     NaN      NaN  Heard about #earthquake is different cities, s...   \n",
       "2   3     NaN      NaN  there is a forest fire at spot pond, geese are...   \n",
       "3   9     NaN      NaN           Apocalypse lighting. #Spokane #wildfires   \n",
       "4  11     NaN      NaN      Typhoon Soudelor kills 28 in China and Taiwan   \n",
       "\n",
       "   BAYES_keyword  text_len                                         text_clean  \n",
       "0       0.688525         6                 just happened a terrible car crash  \n",
       "1       0.688525         9   heard about earthquake is different cities st...  \n",
       "2       0.688525        19   there is a forest fire at spot pond geese are...  \n",
       "3       0.688525         4              apocalypse lighting spokane wildfires  \n",
       "4       0.688525         8        typhoon soudelor kills  in china and taiwan  "
      ]
     },
     "execution_count": 23,
     "metadata": {},
     "output_type": "execute_result"
    }
   ],
   "source": [
    "test['text_clean']=(test['location'].fillna('')+' '+test['text']).apply(clean_text)\n",
    "# test['text_clean'] = test['text'].apply(clean_text)\n",
    "test.head()"
   ]
  },
  {
   "cell_type": "markdown",
   "id": "3faf9150",
   "metadata": {
    "papermill": {
     "duration": 0.019965,
     "end_time": "2023-03-25T10:51:53.367700",
     "exception": false,
     "start_time": "2023-03-25T10:51:53.347735",
     "status": "completed"
    },
    "tags": []
   },
   "source": [
    "#### Stop words"
   ]
  },
  {
   "cell_type": "code",
   "execution_count": 24,
   "id": "7dcb8a5c",
   "metadata": {
    "ExecuteTime": {
     "end_time": "2023-03-25T09:55:54.850436Z",
     "start_time": "2023-03-25T09:55:54.620804Z"
    },
    "execution": {
     "iopub.execute_input": "2023-03-25T10:51:53.410953Z",
     "iopub.status.busy": "2023-03-25T10:51:53.410495Z",
     "iopub.status.idle": "2023-03-25T10:51:53.924783Z",
     "shell.execute_reply": "2023-03-25T10:51:53.923487Z"
    },
    "papermill": {
     "duration": 0.53894,
     "end_time": "2023-03-25T10:51:53.927302",
     "exception": false,
     "start_time": "2023-03-25T10:51:53.388362",
     "status": "completed"
    },
    "tags": []
   },
   "outputs": [
    {
     "data": {
      "text/html": [
       "<div>\n",
       "<style scoped>\n",
       "    .dataframe tbody tr th:only-of-type {\n",
       "        vertical-align: middle;\n",
       "    }\n",
       "\n",
       "    .dataframe tbody tr th {\n",
       "        vertical-align: top;\n",
       "    }\n",
       "\n",
       "    .dataframe thead th {\n",
       "        text-align: right;\n",
       "    }\n",
       "</style>\n",
       "<table border=\"1\" class=\"dataframe\">\n",
       "  <thead>\n",
       "    <tr style=\"text-align: right;\">\n",
       "      <th></th>\n",
       "      <th>id</th>\n",
       "      <th>keyword</th>\n",
       "      <th>location</th>\n",
       "      <th>text</th>\n",
       "      <th>BAYES_keyword</th>\n",
       "      <th>text_len</th>\n",
       "      <th>text_clean</th>\n",
       "    </tr>\n",
       "  </thead>\n",
       "  <tbody>\n",
       "    <tr>\n",
       "      <th>0</th>\n",
       "      <td>0</td>\n",
       "      <td>NaN</td>\n",
       "      <td>NaN</td>\n",
       "      <td>Just happened a terrible car crash</td>\n",
       "      <td>0.688525</td>\n",
       "      <td>6</td>\n",
       "      <td>happened terrible car crash</td>\n",
       "    </tr>\n",
       "    <tr>\n",
       "      <th>1</th>\n",
       "      <td>2</td>\n",
       "      <td>NaN</td>\n",
       "      <td>NaN</td>\n",
       "      <td>Heard about #earthquake is different cities, s...</td>\n",
       "      <td>0.688525</td>\n",
       "      <td>9</td>\n",
       "      <td>heard earthquake different cities stay safe e...</td>\n",
       "    </tr>\n",
       "    <tr>\n",
       "      <th>2</th>\n",
       "      <td>3</td>\n",
       "      <td>NaN</td>\n",
       "      <td>NaN</td>\n",
       "      <td>there is a forest fire at spot pond, geese are...</td>\n",
       "      <td>0.688525</td>\n",
       "      <td>19</td>\n",
       "      <td>forest fire spot pond geese fleeing across st...</td>\n",
       "    </tr>\n",
       "    <tr>\n",
       "      <th>3</th>\n",
       "      <td>9</td>\n",
       "      <td>NaN</td>\n",
       "      <td>NaN</td>\n",
       "      <td>Apocalypse lighting. #Spokane #wildfires</td>\n",
       "      <td>0.688525</td>\n",
       "      <td>4</td>\n",
       "      <td>apocalypse lighting spokane wildfires</td>\n",
       "    </tr>\n",
       "    <tr>\n",
       "      <th>4</th>\n",
       "      <td>11</td>\n",
       "      <td>NaN</td>\n",
       "      <td>NaN</td>\n",
       "      <td>Typhoon Soudelor kills 28 in China and Taiwan</td>\n",
       "      <td>0.688525</td>\n",
       "      <td>8</td>\n",
       "      <td>typhoon soudelor kills  china taiwan</td>\n",
       "    </tr>\n",
       "  </tbody>\n",
       "</table>\n",
       "</div>"
      ],
      "text/plain": [
       "   id keyword location                                               text  \\\n",
       "0   0     NaN      NaN                 Just happened a terrible car crash   \n",
       "1   2     NaN      NaN  Heard about #earthquake is different cities, s...   \n",
       "2   3     NaN      NaN  there is a forest fire at spot pond, geese are...   \n",
       "3   9     NaN      NaN           Apocalypse lighting. #Spokane #wildfires   \n",
       "4  11     NaN      NaN      Typhoon Soudelor kills 28 in China and Taiwan   \n",
       "\n",
       "   BAYES_keyword  text_len                                         text_clean  \n",
       "0       0.688525         6                        happened terrible car crash  \n",
       "1       0.688525         9   heard earthquake different cities stay safe e...  \n",
       "2       0.688525        19   forest fire spot pond geese fleeing across st...  \n",
       "3       0.688525         4              apocalypse lighting spokane wildfires  \n",
       "4       0.688525         8               typhoon soudelor kills  china taiwan  "
      ]
     },
     "execution_count": 24,
     "metadata": {},
     "output_type": "execute_result"
    }
   ],
   "source": [
    "stop_words = stopwords.words('english')\n",
    "more_stopwords = ['u', 'im', 'c', 'amp']\n",
    "stop_words = stop_words + more_stopwords\n",
    "\n",
    "def remove_stopwords(text):\n",
    "    text = ' '.join(word for word in text.split(' ') if word not in stop_words)\n",
    "    return text\n",
    "    \n",
    "train['text_clean'] = train['text_clean'].apply(remove_stopwords)\n",
    "train.head()\n",
    "\n",
    "test['text_clean'] = test['text_clean'].apply(remove_stopwords)\n",
    "test.head()"
   ]
  },
  {
   "cell_type": "markdown",
   "id": "2e2a2d85",
   "metadata": {
    "papermill": {
     "duration": 0.02047,
     "end_time": "2023-03-25T10:51:53.968318",
     "exception": false,
     "start_time": "2023-03-25T10:51:53.947848",
     "status": "completed"
    },
    "tags": []
   },
   "source": [
    "#### Stemming"
   ]
  },
  {
   "cell_type": "code",
   "execution_count": 25,
   "id": "dfba227f",
   "metadata": {
    "ExecuteTime": {
     "end_time": "2023-03-25T09:55:54.866436Z",
     "start_time": "2023-03-25T09:55:54.851429Z"
    },
    "execution": {
     "iopub.execute_input": "2023-03-25T10:51:54.011385Z",
     "iopub.status.busy": "2023-03-25T10:51:54.010884Z",
     "iopub.status.idle": "2023-03-25T10:51:54.017954Z",
     "shell.execute_reply": "2023-03-25T10:51:54.016615Z"
    },
    "papermill": {
     "duration": 0.031708,
     "end_time": "2023-03-25T10:51:54.020430",
     "exception": false,
     "start_time": "2023-03-25T10:51:53.988722",
     "status": "completed"
    },
    "tags": []
   },
   "outputs": [],
   "source": [
    "stemmer = nltk.SnowballStemmer(\"english\")\n",
    "\n",
    "def stemm_text(text):\n",
    "    text = ' '.join(stemmer.stem(word) for word in text.split(' '))\n",
    "    return text"
   ]
  },
  {
   "cell_type": "code",
   "execution_count": 26,
   "id": "a01108f3",
   "metadata": {
    "ExecuteTime": {
     "end_time": "2023-03-25T09:55:55.733462Z",
     "start_time": "2023-03-25T09:55:54.867428Z"
    },
    "execution": {
     "iopub.execute_input": "2023-03-25T10:51:54.064042Z",
     "iopub.status.busy": "2023-03-25T10:51:54.063620Z",
     "iopub.status.idle": "2023-03-25T10:51:55.807501Z",
     "shell.execute_reply": "2023-03-25T10:51:55.806615Z"
    },
    "papermill": {
     "duration": 1.771007,
     "end_time": "2023-03-25T10:51:55.812376",
     "exception": false,
     "start_time": "2023-03-25T10:51:54.041369",
     "status": "completed"
    },
    "tags": []
   },
   "outputs": [
    {
     "data": {
      "text/html": [
       "<div>\n",
       "<style scoped>\n",
       "    .dataframe tbody tr th:only-of-type {\n",
       "        vertical-align: middle;\n",
       "    }\n",
       "\n",
       "    .dataframe tbody tr th {\n",
       "        vertical-align: top;\n",
       "    }\n",
       "\n",
       "    .dataframe thead th {\n",
       "        text-align: right;\n",
       "    }\n",
       "</style>\n",
       "<table border=\"1\" class=\"dataframe\">\n",
       "  <thead>\n",
       "    <tr style=\"text-align: right;\">\n",
       "      <th></th>\n",
       "      <th>id</th>\n",
       "      <th>keyword</th>\n",
       "      <th>location</th>\n",
       "      <th>text</th>\n",
       "      <th>BAYES_keyword</th>\n",
       "      <th>text_len</th>\n",
       "      <th>text_clean</th>\n",
       "    </tr>\n",
       "  </thead>\n",
       "  <tbody>\n",
       "    <tr>\n",
       "      <th>0</th>\n",
       "      <td>0</td>\n",
       "      <td>NaN</td>\n",
       "      <td>NaN</td>\n",
       "      <td>Just happened a terrible car crash</td>\n",
       "      <td>0.688525</td>\n",
       "      <td>6</td>\n",
       "      <td>happen terribl car crash</td>\n",
       "    </tr>\n",
       "    <tr>\n",
       "      <th>1</th>\n",
       "      <td>2</td>\n",
       "      <td>NaN</td>\n",
       "      <td>NaN</td>\n",
       "      <td>Heard about #earthquake is different cities, s...</td>\n",
       "      <td>0.688525</td>\n",
       "      <td>9</td>\n",
       "      <td>heard earthquak differ citi stay safe everyon</td>\n",
       "    </tr>\n",
       "    <tr>\n",
       "      <th>2</th>\n",
       "      <td>3</td>\n",
       "      <td>NaN</td>\n",
       "      <td>NaN</td>\n",
       "      <td>there is a forest fire at spot pond, geese are...</td>\n",
       "      <td>0.688525</td>\n",
       "      <td>19</td>\n",
       "      <td>forest fire spot pond gees flee across street...</td>\n",
       "    </tr>\n",
       "    <tr>\n",
       "      <th>3</th>\n",
       "      <td>9</td>\n",
       "      <td>NaN</td>\n",
       "      <td>NaN</td>\n",
       "      <td>Apocalypse lighting. #Spokane #wildfires</td>\n",
       "      <td>0.688525</td>\n",
       "      <td>4</td>\n",
       "      <td>apocalyps light spokan wildfir</td>\n",
       "    </tr>\n",
       "    <tr>\n",
       "      <th>4</th>\n",
       "      <td>11</td>\n",
       "      <td>NaN</td>\n",
       "      <td>NaN</td>\n",
       "      <td>Typhoon Soudelor kills 28 in China and Taiwan</td>\n",
       "      <td>0.688525</td>\n",
       "      <td>8</td>\n",
       "      <td>typhoon soudelor kill  china taiwan</td>\n",
       "    </tr>\n",
       "  </tbody>\n",
       "</table>\n",
       "</div>"
      ],
      "text/plain": [
       "   id keyword location                                               text  \\\n",
       "0   0     NaN      NaN                 Just happened a terrible car crash   \n",
       "1   2     NaN      NaN  Heard about #earthquake is different cities, s...   \n",
       "2   3     NaN      NaN  there is a forest fire at spot pond, geese are...   \n",
       "3   9     NaN      NaN           Apocalypse lighting. #Spokane #wildfires   \n",
       "4  11     NaN      NaN      Typhoon Soudelor kills 28 in China and Taiwan   \n",
       "\n",
       "   BAYES_keyword  text_len                                         text_clean  \n",
       "0       0.688525         6                           happen terribl car crash  \n",
       "1       0.688525         9      heard earthquak differ citi stay safe everyon  \n",
       "2       0.688525        19   forest fire spot pond gees flee across street...  \n",
       "3       0.688525         4                     apocalyps light spokan wildfir  \n",
       "4       0.688525         8                typhoon soudelor kill  china taiwan  "
      ]
     },
     "execution_count": 26,
     "metadata": {},
     "output_type": "execute_result"
    }
   ],
   "source": [
    "train['text_clean'] = train['text_clean'].apply(stemm_text)\n",
    "train.head()\n",
    "\n",
    "test['text_clean'] = test['text_clean'].apply(stemm_text)\n",
    "test.head()"
   ]
  },
  {
   "cell_type": "markdown",
   "id": "f4b0d62d",
   "metadata": {
    "papermill": {
     "duration": 0.020548,
     "end_time": "2023-03-25T10:51:55.858027",
     "exception": false,
     "start_time": "2023-03-25T10:51:55.837479",
     "status": "completed"
    },
    "tags": []
   },
   "source": [
    "## Wordclouds"
   ]
  },
  {
   "cell_type": "code",
   "execution_count": 27,
   "id": "ba33618a",
   "metadata": {
    "ExecuteTime": {
     "end_time": "2023-03-25T09:55:56.334985Z",
     "start_time": "2023-03-25T09:55:55.734454Z"
    },
    "execution": {
     "iopub.execute_input": "2023-03-25T10:51:55.902416Z",
     "iopub.status.busy": "2023-03-25T10:51:55.901962Z",
     "iopub.status.idle": "2023-03-25T10:51:56.760473Z",
     "shell.execute_reply": "2023-03-25T10:51:56.759135Z"
    },
    "papermill": {
     "duration": 0.885875,
     "end_time": "2023-03-25T10:51:56.765001",
     "exception": false,
     "start_time": "2023-03-25T10:51:55.879126",
     "status": "completed"
    },
    "tags": []
   },
   "outputs": [
    {
     "data": {
      "image/png": "[encoded data removed]",
      "text/plain": [
       "<Figure size 1800x1000 with 1 Axes>"
      ]
     },
     "metadata": {},
     "output_type": "display_data"
    }
   ],
   "source": [
    "wc = WordCloud(\n",
    "    background_color='white', \n",
    "    max_words=200, \n",
    ")\n",
    "wc.generate(' '.join(text for text in train.loc[train['target'] == 1, 'text_clean']))\n",
    "plt.figure(figsize=(18,10))\n",
    "plt.title('Top words for Disaster messages', \n",
    "          fontdict={'size': 22,  'verticalalignment': 'bottom'})\n",
    "plt.imshow(wc)\n",
    "plt.axis(\"off\")\n",
    "plt.show()"
   ]
  },
  {
   "cell_type": "markdown",
   "id": "93f11e73",
   "metadata": {
    "papermill": {
     "duration": 0.023387,
     "end_time": "2023-03-25T10:51:56.813976",
     "exception": false,
     "start_time": "2023-03-25T10:51:56.790589",
     "status": "completed"
    },
    "tags": []
   },
   "source": [
    "## Vectorization"
   ]
  },
  {
   "cell_type": "code",
   "execution_count": 28,
   "id": "667d567f",
   "metadata": {
    "ExecuteTime": {
     "end_time": "2023-03-25T09:55:56.350336Z",
     "start_time": "2023-03-25T09:55:56.335982Z"
    },
    "execution": {
     "iopub.execute_input": "2023-03-25T10:51:56.862909Z",
     "iopub.status.busy": "2023-03-25T10:51:56.862273Z",
     "iopub.status.idle": "2023-03-25T10:51:56.868616Z",
     "shell.execute_reply": "2023-03-25T10:51:56.866975Z"
    },
    "papermill": {
     "duration": 0.034231,
     "end_time": "2023-03-25T10:51:56.871902",
     "exception": false,
     "start_time": "2023-03-25T10:51:56.837671",
     "status": "completed"
    },
    "tags": []
   },
   "outputs": [
    {
     "name": "stdout",
     "output_type": "stream",
     "text": [
      "7613 7613\n"
     ]
    }
   ],
   "source": [
    "# how to define X and y (from the SMS data) for use with COUNTVECTORIZER\n",
    "x = train['text_clean']\n",
    "y = train[col_target]\n",
    "\n",
    "print(len(x), len(y))"
   ]
  },
  {
   "cell_type": "code",
   "execution_count": 29,
   "id": "1b73cea7",
   "metadata": {
    "ExecuteTime": {
     "end_time": "2023-03-25T09:55:56.365706Z",
     "start_time": "2023-03-25T09:55:56.355335Z"
    },
    "execution": {
     "iopub.execute_input": "2023-03-25T10:51:56.920907Z",
     "iopub.status.busy": "2023-03-25T10:51:56.920533Z",
     "iopub.status.idle": "2023-03-25T10:51:56.931214Z",
     "shell.execute_reply": "2023-03-25T10:51:56.929771Z"
    },
    "papermill": {
     "duration": 0.038133,
     "end_time": "2023-03-25T10:51:56.933874",
     "exception": false,
     "start_time": "2023-03-25T10:51:56.895741",
     "status": "completed"
    },
    "tags": []
   },
   "outputs": [
    {
     "name": "stdout",
     "output_type": "stream",
     "text": [
      "6090 6090\n",
      "1523 1523\n"
     ]
    }
   ],
   "source": [
    "X_train, X_test, y_train, y_test = train_test_split(x, y, test_size=0.2, random_state=seed)\n",
    "print(len(X_train), len(y_train))\n",
    "print(len(X_test), len(y_test))"
   ]
  },
  {
   "cell_type": "code",
   "execution_count": 30,
   "id": "f1c40781",
   "metadata": {
    "ExecuteTime": {
     "end_time": "2023-03-25T09:55:56.444655Z",
     "start_time": "2023-03-25T09:55:56.366709Z"
    },
    "execution": {
     "iopub.execute_input": "2023-03-25T10:51:56.982393Z",
     "iopub.status.busy": "2023-03-25T10:51:56.981563Z",
     "iopub.status.idle": "2023-03-25T10:51:57.093123Z",
     "shell.execute_reply": "2023-03-25T10:51:57.091882Z"
    },
    "papermill": {
     "duration": 0.138674,
     "end_time": "2023-03-25T10:51:57.095737",
     "exception": false,
     "start_time": "2023-03-25T10:51:56.957063",
     "status": "completed"
    },
    "tags": []
   },
   "outputs": [
    {
     "data": {
      "text/plain": [
       "CountVectorizer()"
      ]
     },
     "execution_count": 30,
     "metadata": {},
     "output_type": "execute_result"
    }
   ],
   "source": [
    "from sklearn.feature_extraction.text import CountVectorizer\n",
    "\n",
    "# instantiate the vectorizer\n",
    "vect = CountVectorizer()\n",
    "vect.fit(X_train)"
   ]
  },
  {
   "cell_type": "code",
   "execution_count": 31,
   "id": "48e49967",
   "metadata": {
    "ExecuteTime": {
     "end_time": "2023-03-25T09:55:56.522654Z",
     "start_time": "2023-03-25T09:55:56.445664Z"
    },
    "execution": {
     "iopub.execute_input": "2023-03-25T10:51:57.144931Z",
     "iopub.status.busy": "2023-03-25T10:51:57.144047Z",
     "iopub.status.idle": "2023-03-25T10:51:57.279363Z",
     "shell.execute_reply": "2023-03-25T10:51:57.278245Z"
    },
    "papermill": {
     "duration": 0.163028,
     "end_time": "2023-03-25T10:51:57.282367",
     "exception": false,
     "start_time": "2023-03-25T10:51:57.119339",
     "status": "completed"
    },
    "tags": []
   },
   "outputs": [],
   "source": [
    "# Use the trained to create a document-term matrix from train and test sets\n",
    "X_train_dtm = vect.transform(X_train)\n",
    "X_test_dtm = vect.transform(X_test)\n",
    "test_dtm = vect.transform(test['text_clean'])"
   ]
  },
  {
   "cell_type": "code",
   "execution_count": 32,
   "id": "6bfda708",
   "metadata": {
    "ExecuteTime": {
     "end_time": "2023-03-25T09:55:56.537855Z",
     "start_time": "2023-03-25T09:55:56.523984Z"
    },
    "execution": {
     "iopub.execute_input": "2023-03-25T10:51:57.331556Z",
     "iopub.status.busy": "2023-03-25T10:51:57.331116Z",
     "iopub.status.idle": "2023-03-25T10:51:57.336474Z",
     "shell.execute_reply": "2023-03-25T10:51:57.335578Z"
    },
    "papermill": {
     "duration": 0.032881,
     "end_time": "2023-03-25T10:51:57.338814",
     "exception": false,
     "start_time": "2023-03-25T10:51:57.305933",
     "status": "completed"
    },
    "tags": []
   },
   "outputs": [],
   "source": [
    "vect_tunned = CountVectorizer(stop_words='english', ngram_range=(1), min_df=0.1, max_df=0.7, max_features=200)"
   ]
  },
  {
   "cell_type": "code",
   "execution_count": 33,
   "id": "62e3d46f",
   "metadata": {
    "ExecuteTime": {
     "end_time": "2023-03-25T09:55:56.552983Z",
     "start_time": "2023-03-25T09:55:56.538834Z"
    },
    "execution": {
     "iopub.execute_input": "2023-03-25T10:51:57.389380Z",
     "iopub.status.busy": "2023-03-25T10:51:57.388944Z",
     "iopub.status.idle": "2023-03-25T10:51:57.406214Z",
     "shell.execute_reply": "2023-03-25T10:51:57.405316Z"
    },
    "papermill": {
     "duration": 0.045572,
     "end_time": "2023-03-25T10:51:57.408879",
     "exception": false,
     "start_time": "2023-03-25T10:51:57.363307",
     "status": "completed"
    },
    "tags": []
   },
   "outputs": [
    {
     "data": {
      "text/plain": [
       "<6090x13244 sparse matrix of type '<class 'numpy.float64'>'\n",
       "\twith 59536 stored elements in Compressed Sparse Row format>"
      ]
     },
     "execution_count": 33,
     "metadata": {},
     "output_type": "execute_result"
    }
   ],
   "source": [
    "from sklearn.feature_extraction.text import TfidfTransformer\n",
    "\n",
    "tfidf_transformer = TfidfTransformer()\n",
    "\n",
    "tfidf_transformer.fit(X_train_dtm)\n",
    "X_train_tfidf = tfidf_transformer.transform(X_train_dtm)\n",
    "\n",
    "X_train_tfidf"
   ]
  },
  {
   "cell_type": "code",
   "execution_count": 34,
   "id": "40a4af3c",
   "metadata": {
    "ExecuteTime": {
     "end_time": "2023-03-25T09:55:56.568993Z",
     "start_time": "2023-03-25T09:55:56.553986Z"
    },
    "execution": {
     "iopub.execute_input": "2023-03-25T10:51:57.459915Z",
     "iopub.status.busy": "2023-03-25T10:51:57.458865Z",
     "iopub.status.idle": "2023-03-25T10:51:57.467084Z",
     "shell.execute_reply": "2023-03-25T10:51:57.465871Z"
    },
    "papermill": {
     "duration": 0.036651,
     "end_time": "2023-03-25T10:51:57.470237",
     "exception": false,
     "start_time": "2023-03-25T10:51:57.433586",
     "status": "completed"
    },
    "tags": []
   },
   "outputs": [],
   "source": [
    "X_test_tfidf = tfidf_transformer.transform(X_test_dtm)"
   ]
  },
  {
   "cell_type": "code",
   "execution_count": 35,
   "id": "00ae40ea",
   "metadata": {
    "ExecuteTime": {
     "end_time": "2023-03-25T09:55:56.584122Z",
     "start_time": "2023-03-25T09:55:56.569768Z"
    },
    "execution": {
     "iopub.execute_input": "2023-03-25T10:51:57.520362Z",
     "iopub.status.busy": "2023-03-25T10:51:57.519893Z",
     "iopub.status.idle": "2023-03-25T10:51:57.527655Z",
     "shell.execute_reply": "2023-03-25T10:51:57.526319Z"
    },
    "papermill": {
     "duration": 0.036191,
     "end_time": "2023-03-25T10:51:57.530625",
     "exception": false,
     "start_time": "2023-03-25T10:51:57.494434",
     "status": "completed"
    },
    "tags": []
   },
   "outputs": [],
   "source": [
    "test_tfidf = tfidf_transformer.transform(test_dtm)"
   ]
  },
  {
   "cell_type": "markdown",
   "id": "cee4f6d3",
   "metadata": {
    "papermill": {
     "duration": 0.024652,
     "end_time": "2023-03-25T10:51:57.579353",
     "exception": false,
     "start_time": "2023-03-25T10:51:57.554701",
     "status": "completed"
    },
    "tags": []
   },
   "source": [
    "# Modelling"
   ]
  },
  {
   "cell_type": "markdown",
   "id": "80881fde",
   "metadata": {
    "papermill": {
     "duration": 0.023673,
     "end_time": "2023-03-25T10:51:57.626941",
     "exception": false,
     "start_time": "2023-03-25T10:51:57.603268",
     "status": "completed"
    },
    "tags": []
   },
   "source": [
    "## XGBoost simple"
   ]
  },
  {
   "cell_type": "code",
   "execution_count": 36,
   "id": "c7422e08",
   "metadata": {
    "ExecuteTime": {
     "end_time": "2023-03-25T09:55:56.599373Z",
     "start_time": "2023-03-25T09:55:56.585113Z"
    },
    "execution": {
     "iopub.execute_input": "2023-03-25T10:51:57.678233Z",
     "iopub.status.busy": "2023-03-25T10:51:57.676936Z",
     "iopub.status.idle": "2023-03-25T10:51:57.693000Z",
     "shell.execute_reply": "2023-03-25T10:51:57.691277Z"
    },
    "papermill": {
     "duration": 0.045222,
     "end_time": "2023-03-25T10:51:57.696224",
     "exception": false,
     "start_time": "2023-03-25T10:51:57.651002",
     "status": "completed"
    },
    "tags": []
   },
   "outputs": [],
   "source": [
    "from sklearn.pipeline import Pipeline\n",
    "\n",
    "xgb_model = Pipeline([\n",
    "    ('bow', CountVectorizer()), \n",
    "    ('tfid', TfidfTransformer()),  \n",
    "    ('model', xgb.XGBClassifier(\n",
    "        learning_rate=0.1,\n",
    "        max_depth=8,\n",
    "        n_estimators=100,\n",
    "        use_label_encoder=False,\n",
    "        eval_metric='auc',\n",
    "        # colsample_bytree=0.8,\n",
    "        # subsample=0.7,\n",
    "        # min_child_weight=5,\n",
    "    ))\n",
    "])"
   ]
  },
  {
   "cell_type": "code",
   "execution_count": 37,
   "id": "beea5b34",
   "metadata": {
    "ExecuteTime": {
     "end_time": "2023-03-25T09:55:57.373160Z",
     "start_time": "2023-03-25T09:55:56.600396Z"
    },
    "execution": {
     "iopub.execute_input": "2023-03-25T10:51:57.748729Z",
     "iopub.status.busy": "2023-03-25T10:51:57.748024Z",
     "iopub.status.idle": "2023-03-25T10:52:00.372933Z",
     "shell.execute_reply": "2023-03-25T10:52:00.371976Z"
    },
    "papermill": {
     "duration": 2.653334,
     "end_time": "2023-03-25T10:52:00.375458",
     "exception": false,
     "start_time": "2023-03-25T10:51:57.722124",
     "status": "completed"
    },
    "tags": []
   },
   "outputs": [
    {
     "name": "stdout",
     "output_type": "stream",
     "text": [
      "Train accuracy: 0.8236453201970443\n",
      "Test accuracy: 0.7564018384766907\n"
     ]
    },
    {
     "data": {
      "image/png": "[encoded data removed]",
      "text/plain": [
       "<Figure size 1000x700 with 2 Axes>"
      ]
     },
     "metadata": {},
     "output_type": "display_data"
    }
   ],
   "source": [
    "# Fit the pipeline with the data\n",
    "xgb_model.fit(X_train, y_train)\n",
    "\n",
    "y_pred_class = xgb_model.predict(X_test)\n",
    "y_pred_train = xgb_model.predict(X_train)\n",
    "\n",
    "print('Train accuracy: {}'.format(accuracy_score(y_train, y_pred_train)))\n",
    "print('Test accuracy: {}'.format(accuracy_score(y_test, y_pred_class)))\n",
    "\n",
    "array=confusion_matrix(y_test, y_pred_class)\n",
    "\n",
    "df_cm = pd.DataFrame(array, range(2), range(2))\n",
    "plt.figure(figsize=(10,7))\n",
    "sns.set(font_scale=1.) # for label size\n",
    "sns.heatmap(df_cm, annot=True, annot_kws={\"size\": 16}, fmt='g') # font size\n",
    "\n",
    "plt.show()"
   ]
  },
  {
   "cell_type": "code",
   "execution_count": 38,
   "id": "9c0048fa",
   "metadata": {
    "ExecuteTime": {
     "end_time": "2023-03-25T09:55:57.468162Z",
     "start_time": "2023-03-25T09:55:57.375165Z"
    },
    "execution": {
     "iopub.execute_input": "2023-03-25T10:52:00.428450Z",
     "iopub.status.busy": "2023-03-25T10:52:00.427487Z",
     "iopub.status.idle": "2023-03-25T10:52:00.568063Z",
     "shell.execute_reply": "2023-03-25T10:52:00.566483Z"
    },
    "papermill": {
     "duration": 0.170032,
     "end_time": "2023-03-25T10:52:00.571047",
     "exception": false,
     "start_time": "2023-03-25T10:52:00.401015",
     "status": "completed"
    },
    "tags": []
   },
   "outputs": [],
   "source": [
    "X_train['XGB_SCORE']=xgb_model.predict_proba(X_train)[:, 1]\n",
    "X_test['XGB_SCORE']=xgb_model.predict_proba(X_test)[:, 1]"
   ]
  },
  {
   "cell_type": "code",
   "execution_count": 39,
   "id": "8ce6b986",
   "metadata": {
    "ExecuteTime": {
     "end_time": "2023-03-25T09:55:57.499160Z",
     "start_time": "2023-03-25T09:55:57.470161Z"
    },
    "execution": {
     "iopub.execute_input": "2023-03-25T10:52:00.623390Z",
     "iopub.status.busy": "2023-03-25T10:52:00.622985Z",
     "iopub.status.idle": "2023-03-25T10:52:00.645129Z",
     "shell.execute_reply": "2023-03-25T10:52:00.643466Z"
    },
    "papermill": {
     "duration": 0.051801,
     "end_time": "2023-03-25T10:52:00.648838",
     "exception": false,
     "start_time": "2023-03-25T10:52:00.597037",
     "status": "completed"
    },
    "tags": []
   },
   "outputs": [
    {
     "name": "stdout",
     "output_type": "stream",
     "text": [
      "The Lift on the train set is: 2.3522595596755504\n",
      "The gini on the train set is: 0.8137774242949289\n",
      "\n",
      "\n",
      "The Lift on the valid set is: 2.1743710449143387\n",
      "The gini on the valid set is: 0.6780749073334706\n",
      "\n",
      "\n"
     ]
    }
   ],
   "source": [
    "print('The Lift on the train set is: '+ str(mofr.metrics.lift(y_train, X_train['XGB_SCORE'])))\n",
    "print('The gini on the train set is: '+ str(mofr.metrics.gini(y_train.apply(int), X_train['XGB_SCORE'])))\n",
    "# print('The accuracy on the train set is: '+ str(mofr.metrics.accuracy_score(train[col_target].apply(int), train['XGB_SCORE'].apply(lambda x: int(x>0.5)))))\n",
    "print('\\n')\n",
    "print('The Lift on the valid set is: '+ str(mofr.metrics.lift(y_test, X_test['XGB_SCORE'])))\n",
    "print('The gini on the valid set is: '+ str(mofr.metrics.gini(y_test.apply(int), X_test['XGB_SCORE'])))\n",
    "# print('The accuracy on the valid set is: '+ str(mofr.metrics.accuracy_score(df[valid_mask][col_target].apply(int), df[valid_mask]['XGB_SCORE'].apply(lambda x: int(x>0.5)))))\n",
    "print('\\n')"
   ]
  },
  {
   "cell_type": "markdown",
   "id": "4bbdfeb3",
   "metadata": {
    "papermill": {
     "duration": 0.024171,
     "end_time": "2023-03-25T10:52:00.697763",
     "exception": false,
     "start_time": "2023-03-25T10:52:00.673592",
     "status": "completed"
    },
    "tags": []
   },
   "source": [
    "## Naive Bayes"
   ]
  },
  {
   "cell_type": "code",
   "execution_count": 40,
   "id": "b1e0777c",
   "metadata": {
    "ExecuteTime": {
     "end_time": "2023-03-25T09:55:57.515162Z",
     "start_time": "2023-03-25T09:55:57.501162Z"
    },
    "execution": {
     "iopub.execute_input": "2023-03-25T10:52:00.751232Z",
     "iopub.status.busy": "2023-03-25T10:52:00.750795Z",
     "iopub.status.idle": "2023-03-25T10:52:00.771363Z",
     "shell.execute_reply": "2023-03-25T10:52:00.769765Z"
    },
    "papermill": {
     "duration": 0.050487,
     "end_time": "2023-03-25T10:52:00.774196",
     "exception": false,
     "start_time": "2023-03-25T10:52:00.723709",
     "status": "completed"
    },
    "tags": []
   },
   "outputs": [
    {
     "data": {
      "text/plain": [
       "MultinomialNB()"
      ]
     },
     "execution_count": 40,
     "metadata": {},
     "output_type": "execute_result"
    }
   ],
   "source": [
    "# Create a Multinomial Naive Bayes model\n",
    "from sklearn.naive_bayes import MultinomialNB\n",
    "nb = MultinomialNB()\n",
    "\n",
    "# Train the model\n",
    "nb.fit(X_train_dtm, y_train)"
   ]
  },
  {
   "cell_type": "code",
   "execution_count": 41,
   "id": "65cd04fe",
   "metadata": {
    "ExecuteTime": {
     "end_time": "2023-03-25T09:55:57.531160Z",
     "start_time": "2023-03-25T09:55:57.517161Z"
    },
    "execution": {
     "iopub.execute_input": "2023-03-25T10:52:00.825692Z",
     "iopub.status.busy": "2023-03-25T10:52:00.825280Z",
     "iopub.status.idle": "2023-03-25T10:52:00.832705Z",
     "shell.execute_reply": "2023-03-25T10:52:00.831592Z"
    },
    "papermill": {
     "duration": 0.036409,
     "end_time": "2023-03-25T10:52:00.835530",
     "exception": false,
     "start_time": "2023-03-25T10:52:00.799121",
     "status": "completed"
    },
    "tags": []
   },
   "outputs": [],
   "source": [
    "# Make class anf probability predictions\n",
    "y_pred_class = nb.predict(X_test_dtm)\n",
    "y_pred_prob = nb.predict_proba(X_test_dtm)[:, 1]"
   ]
  },
  {
   "cell_type": "code",
   "execution_count": 42,
   "id": "ff8bef9a",
   "metadata": {
    "ExecuteTime": {
     "end_time": "2023-03-25T09:55:57.655161Z",
     "start_time": "2023-03-25T09:55:57.533162Z"
    },
    "execution": {
     "iopub.execute_input": "2023-03-25T10:52:00.888916Z",
     "iopub.status.busy": "2023-03-25T10:52:00.888006Z",
     "iopub.status.idle": "2023-03-25T10:52:01.174049Z",
     "shell.execute_reply": "2023-03-25T10:52:01.172760Z"
    },
    "papermill": {
     "duration": 0.315438,
     "end_time": "2023-03-25T10:52:01.176856",
     "exception": false,
     "start_time": "2023-03-25T10:52:00.861418",
     "status": "completed"
    },
    "tags": []
   },
   "outputs": [
    {
     "name": "stdout",
     "output_type": "stream",
     "text": [
      "0.7944845699277742\n"
     ]
    },
    {
     "data": {
      "image/png": "[encoded data removed]",
      "text/plain": [
       "<Figure size 1000x700 with 2 Axes>"
      ]
     },
     "metadata": {},
     "output_type": "display_data"
    }
   ],
   "source": [
    "print(accuracy_score(y_test, y_pred_class))\n",
    "\n",
    "array=confusion_matrix(y_test, y_pred_class)\n",
    "\n",
    "df_cm = pd.DataFrame(array, range(2), range(2))\n",
    "plt.figure(figsize=(10,7))\n",
    "sns.set(font_scale=1.) # for label size\n",
    "sns.heatmap(df_cm, annot=True, annot_kws={\"size\": 16}, fmt='g') # font size\n",
    "\n",
    "plt.show()"
   ]
  },
  {
   "cell_type": "code",
   "execution_count": 43,
   "id": "a71f8cc9",
   "metadata": {
    "ExecuteTime": {
     "end_time": "2023-03-25T09:55:57.671161Z",
     "start_time": "2023-03-25T09:55:57.656161Z"
    },
    "execution": {
     "iopub.execute_input": "2023-03-25T10:52:01.229131Z",
     "iopub.status.busy": "2023-03-25T10:52:01.228680Z",
     "iopub.status.idle": "2023-03-25T10:52:01.242128Z",
     "shell.execute_reply": "2023-03-25T10:52:01.241059Z"
    },
    "papermill": {
     "duration": 0.042929,
     "end_time": "2023-03-25T10:52:01.244708",
     "exception": false,
     "start_time": "2023-03-25T10:52:01.201779",
     "status": "completed"
    },
    "tags": []
   },
   "outputs": [],
   "source": [
    "X_train['NB_SCORE']=nb.predict_proba(X_train_dtm)[:, 1]\n",
    "X_test['NB_SCORE']=nb.predict_proba(X_test_dtm)[:, 1]"
   ]
  },
  {
   "cell_type": "code",
   "execution_count": 44,
   "id": "b35d6434",
   "metadata": {
    "ExecuteTime": {
     "end_time": "2023-03-25T09:55:57.686162Z",
     "start_time": "2023-03-25T09:55:57.672163Z"
    },
    "execution": {
     "iopub.execute_input": "2023-03-25T10:52:01.297556Z",
     "iopub.status.busy": "2023-03-25T10:52:01.296652Z",
     "iopub.status.idle": "2023-03-25T10:52:01.324644Z",
     "shell.execute_reply": "2023-03-25T10:52:01.323348Z"
    },
    "papermill": {
     "duration": 0.058543,
     "end_time": "2023-03-25T10:52:01.328210",
     "exception": false,
     "start_time": "2023-03-25T10:52:01.269667",
     "status": "completed"
    },
    "tags": []
   },
   "outputs": [
    {
     "name": "stdout",
     "output_type": "stream",
     "text": [
      "The Lift on the train set is: 2.3483970645036694\n",
      "The gini on the train set is: 0.928591058627072\n",
      "The accuracy on the train set is: 0.9139573070607553\n",
      "\n",
      "\n",
      "The Lift on the valid set is: 2.218542157821095\n",
      "The gini on the valid set is: 0.7061799770556627\n",
      "The accuracy on the valid set is: 0.7944845699277742\n",
      "\n",
      "\n"
     ]
    }
   ],
   "source": [
    "print('The Lift on the train set is: '+ str(mofr.metrics.lift(y_train, X_train['NB_SCORE'])))\n",
    "print('The gini on the train set is: '+ str(mofr.metrics.gini(y_train.apply(int), X_train['NB_SCORE'])))\n",
    "print('The accuracy on the train set is: '+ str(mofr.metrics.accuracy_score(y_train.apply(int), X_train['NB_SCORE']>0.5)))\n",
    "print('\\n')\n",
    "print('The Lift on the valid set is: '+ str(mofr.metrics.lift(y_test, X_test['NB_SCORE'])))\n",
    "print('The gini on the valid set is: '+ str(mofr.metrics.gini(y_test.apply(int), X_test['NB_SCORE'])))\n",
    "print('The accuracy on the valid set is: '+ str(mofr.metrics.accuracy_score(y_test.apply(int), X_test['NB_SCORE']>0.5)))\n",
    "print('\\n')"
   ]
  },
  {
   "cell_type": "markdown",
   "id": "c2e46f3a",
   "metadata": {
    "papermill": {
     "duration": 0.024668,
     "end_time": "2023-03-25T10:52:01.378466",
     "exception": false,
     "start_time": "2023-03-25T10:52:01.353798",
     "status": "completed"
    },
    "tags": []
   },
   "source": [
    "## LSTM"
   ]
  },
  {
   "cell_type": "code",
   "execution_count": 45,
   "id": "9760a407",
   "metadata": {
    "ExecuteTime": {
     "end_time": "2023-03-25T09:55:57.702170Z",
     "start_time": "2023-03-25T09:55:57.687163Z"
    },
    "execution": {
     "iopub.execute_input": "2023-03-25T10:52:01.431695Z",
     "iopub.status.busy": "2023-03-25T10:52:01.431285Z",
     "iopub.status.idle": "2023-03-25T10:52:10.099598Z",
     "shell.execute_reply": "2023-03-25T10:52:10.098246Z"
    },
    "papermill": {
     "duration": 8.698169,
     "end_time": "2023-03-25T10:52:10.102381",
     "exception": false,
     "start_time": "2023-03-25T10:52:01.404212",
     "status": "completed"
    },
    "tags": []
   },
   "outputs": [],
   "source": [
    "import keras\n",
    "\n",
    "from keras.models import Sequential\n",
    "from keras.initializers import Constant\n",
    "from keras.layers import (LSTM, \n",
    "                          Embedding, \n",
    "                          BatchNormalization,\n",
    "                          Dense, \n",
    "                          TimeDistributed, \n",
    "                          Dropout, \n",
    "                          Bidirectional,\n",
    "                          Flatten, \n",
    "                          GlobalMaxPool1D)\n",
    "from keras.preprocessing.text import Tokenizer\n",
    "from keras.utils import pad_sequences\n",
    "from tensorflow.keras.layers import Embedding\n",
    "from keras.callbacks import ModelCheckpoint, ReduceLROnPlateau\n",
    "from keras.optimizers import Adam\n"
   ]
  },
  {
   "cell_type": "code",
   "execution_count": 46,
   "id": "bb941501",
   "metadata": {
    "ExecuteTime": {
     "end_time": "2023-03-25T09:55:57.718160Z",
     "start_time": "2023-03-25T09:55:57.703160Z"
    },
    "execution": {
     "iopub.execute_input": "2023-03-25T10:52:10.155668Z",
     "iopub.status.busy": "2023-03-25T10:52:10.154343Z",
     "iopub.status.idle": "2023-03-25T10:52:10.159564Z",
     "shell.execute_reply": "2023-03-25T10:52:10.158734Z"
    },
    "papermill": {
     "duration": 0.0348,
     "end_time": "2023-03-25T10:52:10.161835",
     "exception": false,
     "start_time": "2023-03-25T10:52:10.127035",
     "status": "completed"
    },
    "tags": []
   },
   "outputs": [],
   "source": [
    "texts = train['text_clean']\n",
    "target = train['target']"
   ]
  },
  {
   "cell_type": "code",
   "execution_count": 47,
   "id": "9fc05283",
   "metadata": {
    "ExecuteTime": {
     "end_time": "2023-03-25T09:55:57.734053Z",
     "start_time": "2023-03-25T09:55:57.719161Z"
    },
    "execution": {
     "iopub.execute_input": "2023-03-25T10:52:10.215550Z",
     "iopub.status.busy": "2023-03-25T10:52:10.214745Z",
     "iopub.status.idle": "2023-03-25T10:52:10.396169Z",
     "shell.execute_reply": "2023-03-25T10:52:10.395165Z"
    },
    "papermill": {
     "duration": 0.21102,
     "end_time": "2023-03-25T10:52:10.398725",
     "exception": false,
     "start_time": "2023-03-25T10:52:10.187705",
     "status": "completed"
    },
    "tags": []
   },
   "outputs": [
    {
     "data": {
      "text/plain": [
       "15360"
      ]
     },
     "execution_count": 47,
     "metadata": {},
     "output_type": "execute_result"
    }
   ],
   "source": [
    "# Calculate the length of our vocabulary\n",
    "word_tokenizer = Tokenizer()\n",
    "word_tokenizer.fit_on_texts(texts)\n",
    "\n",
    "vocab_length = len(word_tokenizer.word_index) + 1\n",
    "vocab_length"
   ]
  },
  {
   "cell_type": "code",
   "execution_count": 48,
   "id": "f21b3e0b",
   "metadata": {
    "execution": {
     "iopub.execute_input": "2023-03-25T10:52:10.450450Z",
     "iopub.status.busy": "2023-03-25T10:52:10.449911Z",
     "iopub.status.idle": "2023-03-25T10:52:11.494352Z",
     "shell.execute_reply": "2023-03-25T10:52:11.493188Z"
    },
    "papermill": {
     "duration": 1.073921,
     "end_time": "2023-03-25T10:52:11.497476",
     "exception": false,
     "start_time": "2023-03-25T10:52:10.423555",
     "status": "completed"
    },
    "tags": []
   },
   "outputs": [
    {
     "data": {
      "text/plain": [
       "array([[4048,  511,  234, ...,    0,    0,    0],\n",
       "       [ 157,    3,  106, ...,    0,    0,    0],\n",
       "       [1301,  533, 2029, ...,    0,    0,    0],\n",
       "       ...,\n",
       "       [ 507,  887,    0, ...,    0,    0,    0],\n",
       "       [  36,  192, 2953, ...,    0,    0,    0],\n",
       "       [ 199,   33,  476, ...,    0,    0,    0]], dtype=int32)"
      ]
     },
     "execution_count": 48,
     "metadata": {},
     "output_type": "execute_result"
    }
   ],
   "source": [
    "def embed(corpus): \n",
    "    return word_tokenizer.texts_to_sequences(corpus)\n",
    "\n",
    "longest_train = max(texts, key=lambda sentence: len(word_tokenize(sentence)))\n",
    "length_long_sentence = len(word_tokenize(longest_train))\n",
    "\n",
    "train_padded_sentences = pad_sequences(\n",
    "    embed(texts), \n",
    "    length_long_sentence, \n",
    "    padding='post'\n",
    ")\n",
    "\n",
    "train_padded_sentences"
   ]
  },
  {
   "cell_type": "code",
   "execution_count": 49,
   "id": "0fd2535e",
   "metadata": {
    "execution": {
     "iopub.execute_input": "2023-03-25T10:52:11.551397Z",
     "iopub.status.busy": "2023-03-25T10:52:11.550951Z",
     "iopub.status.idle": "2023-03-25T10:52:24.313790Z",
     "shell.execute_reply": "2023-03-25T10:52:24.312543Z"
    },
    "papermill": {
     "duration": 12.807087,
     "end_time": "2023-03-25T10:52:24.330345",
     "exception": false,
     "start_time": "2023-03-25T10:52:11.523258",
     "status": "completed"
    },
    "tags": []
   },
   "outputs": [],
   "source": [
    "embeddings_dictionary = dict()\n",
    "embedding_dim = 100\n",
    "\n",
    "# Load GloVe 100D embeddings\n",
    "with open('/kaggle/input/glove6b100dtxt/glove.6B.100d.txt') as fp:\n",
    "    for line in fp.readlines():\n",
    "        records = line.split()\n",
    "        word = records[0]\n",
    "        vector_dimensions = np.asarray(records[1:], dtype='float32')\n",
    "        embeddings_dictionary [word] = vector_dimensions\n",
    "\n",
    "# embeddings_dictionary"
   ]
  },
  {
   "cell_type": "code",
   "execution_count": 50,
   "id": "7926de6a",
   "metadata": {
    "execution": {
     "iopub.execute_input": "2023-03-25T10:52:24.381784Z",
     "iopub.status.busy": "2023-03-25T10:52:24.381375Z",
     "iopub.status.idle": "2023-03-25T10:52:24.425771Z",
     "shell.execute_reply": "2023-03-25T10:52:24.424482Z"
    },
    "papermill": {
     "duration": 0.073772,
     "end_time": "2023-03-25T10:52:24.428868",
     "exception": false,
     "start_time": "2023-03-25T10:52:24.355096",
     "status": "completed"
    },
    "tags": []
   },
   "outputs": [
    {
     "data": {
      "text/plain": [
       "array([[ 0.        ,  0.        ,  0.        , ...,  0.        ,\n",
       "         0.        ,  0.        ],\n",
       "       [-0.043959  ,  0.18935999,  0.66109997, ..., -0.14168   ,\n",
       "         0.92789   ,  0.59057999],\n",
       "       [-0.2687    ,  0.81708002,  0.69896001, ..., -0.40110001,\n",
       "         0.74656999,  0.31121999],\n",
       "       ...,\n",
       "       [ 0.        ,  0.        ,  0.        , ...,  0.        ,\n",
       "         0.        ,  0.        ],\n",
       "       [ 0.19814   , -0.33517   , -0.13950001, ..., -0.070356  ,\n",
       "        -0.18391   ,  0.62439001],\n",
       "       [-0.34132001,  0.26423001,  0.47813001, ..., -0.92395002,\n",
       "         0.48275   ,  0.52947998]])"
      ]
     },
     "execution_count": 50,
     "metadata": {},
     "output_type": "execute_result"
    }
   ],
   "source": [
    "# Now we will load embedding vectors of those words that appear in the\n",
    "# Glove dictionary. Others will be initialized to 0.\n",
    "\n",
    "embedding_matrix = np.zeros((vocab_length, embedding_dim))\n",
    "\n",
    "for word, index in word_tokenizer.word_index.items():\n",
    "    embedding_vector = embeddings_dictionary.get(word)\n",
    "    if embedding_vector is not None:\n",
    "        embedding_matrix[index] = embedding_vector\n",
    "        \n",
    "embedding_matrix"
   ]
  },
  {
   "cell_type": "code",
   "execution_count": 51,
   "id": "3ec025ce",
   "metadata": {
    "execution": {
     "iopub.execute_input": "2023-03-25T10:52:24.500502Z",
     "iopub.status.busy": "2023-03-25T10:52:24.499456Z",
     "iopub.status.idle": "2023-03-25T10:52:24.509479Z",
     "shell.execute_reply": "2023-03-25T10:52:24.507985Z"
    },
    "papermill": {
     "duration": 0.050346,
     "end_time": "2023-03-25T10:52:24.512691",
     "exception": false,
     "start_time": "2023-03-25T10:52:24.462345",
     "status": "completed"
    },
    "tags": []
   },
   "outputs": [],
   "source": [
    "# Split data into train and test sets\n",
    "X_train, X_test, y_train, y_test = train_test_split(\n",
    "    train_padded_sentences, \n",
    "    target, \n",
    "    test_size=0.25\n",
    ")"
   ]
  },
  {
   "cell_type": "code",
   "execution_count": 52,
   "id": "6b9b0cc5",
   "metadata": {
    "execution": {
     "iopub.execute_input": "2023-03-25T10:52:24.565873Z",
     "iopub.status.busy": "2023-03-25T10:52:24.564533Z",
     "iopub.status.idle": "2023-03-25T10:52:25.510806Z",
     "shell.execute_reply": "2023-03-25T10:52:25.508979Z"
    },
    "papermill": {
     "duration": 0.98274,
     "end_time": "2023-03-25T10:52:25.520432",
     "exception": false,
     "start_time": "2023-03-25T10:52:24.537692",
     "status": "completed"
    },
    "tags": []
   },
   "outputs": [
    {
     "name": "stdout",
     "output_type": "stream",
     "text": [
      "Model: \"sequential\"\n",
      "_________________________________________________________________\n",
      " Layer (type)                Output Shape              Param #   \n",
      "=================================================================\n",
      " embedding (Embedding)       (None, 26, 100)           1536000   \n",
      "                                                                 \n",
      " bidirectional (Bidirectiona  (None, 26, 52)           26416     \n",
      " l)                                                              \n",
      "                                                                 \n",
      " global_max_pooling1d (Globa  (None, 52)               0         \n",
      " lMaxPooling1D)                                                  \n",
      "                                                                 \n",
      " batch_normalization (BatchN  (None, 52)               208       \n",
      " ormalization)                                                   \n",
      "                                                                 \n",
      " dropout (Dropout)           (None, 52)                0         \n",
      "                                                                 \n",
      " dense (Dense)               (None, 26)                1378      \n",
      "                                                                 \n",
      " dropout_1 (Dropout)         (None, 26)                0         \n",
      "                                                                 \n",
      " dense_1 (Dense)             (None, 26)                702       \n",
      "                                                                 \n",
      " dropout_2 (Dropout)         (None, 26)                0         \n",
      "                                                                 \n",
      " dense_2 (Dense)             (None, 1)                 27        \n",
      "                                                                 \n",
      "=================================================================\n",
      "Total params: 1,564,731\n",
      "Trainable params: 1,564,627\n",
      "Non-trainable params: 104\n",
      "_________________________________________________________________\n"
     ]
    }
   ],
   "source": [
    "# Model from https://www.kaggle.com/mariapushkareva/nlp-disaster-tweets-with-glove-and-lstm/data\n",
    "\n",
    "def glove_lstm():\n",
    "    model = Sequential()\n",
    "    \n",
    "    model.add(Embedding(\n",
    "        input_dim=embedding_matrix.shape[0], \n",
    "        output_dim=embedding_matrix.shape[1], \n",
    "        weights = [embedding_matrix], \n",
    "        input_length=length_long_sentence\n",
    "    ))\n",
    "    \n",
    "    model.add(Bidirectional(LSTM(\n",
    "        length_long_sentence, \n",
    "        return_sequences = True, \n",
    "        recurrent_dropout=0.2\n",
    "    )))\n",
    "    \n",
    "    model.add(GlobalMaxPool1D())\n",
    "    model.add(BatchNormalization())\n",
    "    model.add(Dropout(0.5))\n",
    "    model.add(Dense(length_long_sentence, activation = \"relu\"))\n",
    "    model.add(Dropout(0.5))\n",
    "    model.add(Dense(length_long_sentence, activation = \"relu\"))\n",
    "    model.add(Dropout(0.5))\n",
    "    model.add(Dense(1, activation = 'sigmoid'))\n",
    "    model.compile(optimizer='rmsprop', loss='binary_crossentropy', metrics=['accuracy'])\n",
    "    \n",
    "    return model\n",
    "\n",
    "model = glove_lstm()\n",
    "model.summary()"
   ]
  },
  {
   "cell_type": "code",
   "execution_count": 53,
   "id": "ac7d05e0",
   "metadata": {
    "execution": {
     "iopub.execute_input": "2023-03-25T10:52:25.576533Z",
     "iopub.status.busy": "2023-03-25T10:52:25.576101Z",
     "iopub.status.idle": "2023-03-25T10:53:26.194128Z",
     "shell.execute_reply": "2023-03-25T10:53:26.192997Z"
    },
    "papermill": {
     "duration": 60.649943,
     "end_time": "2023-03-25T10:53:26.197397",
     "exception": false,
     "start_time": "2023-03-25T10:52:25.547454",
     "status": "completed"
    },
    "tags": []
   },
   "outputs": [
    {
     "name": "stdout",
     "output_type": "stream",
     "text": [
      "Epoch 1/7\n",
      "179/179 [==============================] - ETA: 0s - loss: 0.8619 - accuracy: 0.5572\n",
      "Epoch 1: val_loss improved from inf to 0.66970, saving model to model.h5\n",
      "179/179 [==============================] - 14s 46ms/step - loss: 0.8619 - accuracy: 0.5572 - val_loss: 0.6697 - val_accuracy: 0.6749 - lr: 0.0010\n",
      "Epoch 2/7\n",
      "178/179 [============================>.] - ETA: 0s - loss: 0.6520 - accuracy: 0.6431\n",
      "Epoch 2: val_loss improved from 0.66970 to 0.58800, saving model to model.h5\n",
      "179/179 [==============================] - 8s 42ms/step - loss: 0.6519 - accuracy: 0.6428 - val_loss: 0.5880 - val_accuracy: 0.7679 - lr: 0.0010\n",
      "Epoch 3/7\n",
      "178/179 [============================>.] - ETA: 0s - loss: 0.5727 - accuracy: 0.7184\n",
      "Epoch 3: val_loss improved from 0.58800 to 0.50429, saving model to model.h5\n",
      "179/179 [==============================] - 8s 43ms/step - loss: 0.5736 - accuracy: 0.7178 - val_loss: 0.5043 - val_accuracy: 0.7878 - lr: 0.0010\n",
      "Epoch 4/7\n",
      "179/179 [==============================] - ETA: 0s - loss: 0.5382 - accuracy: 0.7513\n",
      "Epoch 4: val_loss improved from 0.50429 to 0.47207, saving model to model.h5\n",
      "179/179 [==============================] - 8s 42ms/step - loss: 0.5382 - accuracy: 0.7513 - val_loss: 0.4721 - val_accuracy: 0.7894 - lr: 0.0010\n",
      "Epoch 5/7\n",
      "179/179 [==============================] - ETA: 0s - loss: 0.4955 - accuracy: 0.7809\n",
      "Epoch 5: val_loss improved from 0.47207 to 0.45604, saving model to model.h5\n",
      "179/179 [==============================] - 8s 42ms/step - loss: 0.4955 - accuracy: 0.7809 - val_loss: 0.4560 - val_accuracy: 0.7973 - lr: 0.0010\n",
      "Epoch 6/7\n",
      "178/179 [============================>.] - ETA: 0s - loss: 0.4633 - accuracy: 0.8114\n",
      "Epoch 6: val_loss improved from 0.45604 to 0.44720, saving model to model.h5\n",
      "179/179 [==============================] - 7s 41ms/step - loss: 0.4635 - accuracy: 0.8114 - val_loss: 0.4472 - val_accuracy: 0.8078 - lr: 0.0010\n",
      "Epoch 7/7\n",
      "179/179 [==============================] - ETA: 0s - loss: 0.4372 - accuracy: 0.8271\n",
      "Epoch 7: val_loss improved from 0.44720 to 0.44062, saving model to model.h5\n",
      "179/179 [==============================] - 8s 44ms/step - loss: 0.4372 - accuracy: 0.8271 - val_loss: 0.4406 - val_accuracy: 0.8009 - lr: 0.0010\n"
     ]
    }
   ],
   "source": [
    "# Load the model and train!!\n",
    "\n",
    "model = glove_lstm()\n",
    "\n",
    "checkpoint = ModelCheckpoint(\n",
    "    'model.h5', \n",
    "    monitor = 'val_loss', \n",
    "    verbose = 1, \n",
    "    save_best_only = True\n",
    ")\n",
    "reduce_lr = ReduceLROnPlateau(\n",
    "    monitor = 'val_loss', \n",
    "    factor = 0.2, \n",
    "    verbose = 1, \n",
    "    patience = 5,                        \n",
    "    min_lr = 0.001\n",
    ")\n",
    "history = model.fit(\n",
    "    X_train, \n",
    "    y_train, \n",
    "    epochs = 7,\n",
    "    batch_size = 32,\n",
    "    validation_data = (X_test, y_test),\n",
    "    verbose = 1,\n",
    "    callbacks = [reduce_lr, checkpoint]\n",
    ")"
   ]
  },
  {
   "cell_type": "code",
   "execution_count": 54,
   "id": "93f9f40f",
   "metadata": {
    "execution": {
     "iopub.execute_input": "2023-03-25T10:53:26.335212Z",
     "iopub.status.busy": "2023-03-25T10:53:26.334798Z",
     "iopub.status.idle": "2023-03-25T10:53:27.731069Z",
     "shell.execute_reply": "2023-03-25T10:53:27.730079Z"
    },
    "papermill": {
     "duration": 1.468526,
     "end_time": "2023-03-25T10:53:27.733851",
     "exception": false,
     "start_time": "2023-03-25T10:53:26.265325",
     "status": "completed"
    },
    "tags": []
   },
   "outputs": [
    {
     "name": "stdout",
     "output_type": "stream",
     "text": [
      "60/60 [==============================] - 1s 8ms/step\n",
      "0.8009453781512605\n"
     ]
    },
    {
     "data": {
      "image/png": "[encoded data removed]",
      "text/plain": [
       "<Figure size 1000x700 with 2 Axes>"
      ]
     },
     "metadata": {},
     "output_type": "display_data"
    }
   ],
   "source": [
    "y_preds = (model.predict(X_test) > 0.5).astype(\"int32\")\n",
    "print(accuracy_score(y_test, y_preds))\n",
    "\n",
    "array=confusion_matrix(y_test, y_preds)\n",
    "\n",
    "df_cm = pd.DataFrame(array, range(2), range(2))\n",
    "plt.figure(figsize=(10,7))\n",
    "sns.set(font_scale=1.) # for label size\n",
    "sns.heatmap(df_cm, annot=True, annot_kws={\"size\": 16}, fmt='g') # font size\n",
    "\n",
    "plt.show()"
   ]
  },
  {
   "cell_type": "markdown",
   "id": "f10748a2",
   "metadata": {
    "papermill": {
     "duration": 0.068681,
     "end_time": "2023-03-25T10:53:27.873243",
     "exception": false,
     "start_time": "2023-03-25T10:53:27.804562",
     "status": "completed"
    },
    "tags": []
   },
   "source": [
    "# Scoring the test set"
   ]
  },
  {
   "cell_type": "code",
   "execution_count": 55,
   "id": "362618ac",
   "metadata": {
    "execution": {
     "iopub.execute_input": "2023-03-25T10:53:28.013735Z",
     "iopub.status.busy": "2023-03-25T10:53:28.012825Z",
     "iopub.status.idle": "2023-03-25T10:53:28.472852Z",
     "shell.execute_reply": "2023-03-25T10:53:28.471262Z"
    },
    "papermill": {
     "duration": 0.533964,
     "end_time": "2023-03-25T10:53:28.476016",
     "exception": false,
     "start_time": "2023-03-25T10:53:27.942052",
     "status": "completed"
    },
    "tags": []
   },
   "outputs": [
    {
     "data": {
      "text/plain": [
       "array([[ 226, 1834,   60, ...,    0,    0,    0],\n",
       "       [ 414,  234,  915, ...,    0,    0,    0],\n",
       "       [ 157,    3,  669, ...,    0,    0,    0],\n",
       "       ...,\n",
       "       [ 824,  549,   63, ...,    0,    0,    0],\n",
       "       [5403,  208,  150, ...,    0,    0,    0],\n",
       "       [5144,  719, 1496, ...,    0,    0,    0]], dtype=int32)"
      ]
     },
     "execution_count": 55,
     "metadata": {},
     "output_type": "execute_result"
    }
   ],
   "source": [
    "texts = test['text_clean']\n",
    "\n",
    "\n",
    "longest_train = max(texts, key=lambda sentence: len(word_tokenize(sentence)))\n",
    "length_long_sentence = len(word_tokenize(longest_train))\n",
    "\n",
    "test_padded_sentences = pad_sequences(\n",
    "    embed(texts), \n",
    "    length_long_sentence, \n",
    "    padding='post'\n",
    ")\n",
    "\n",
    "test_padded_sentences"
   ]
  },
  {
   "cell_type": "code",
   "execution_count": 56,
   "id": "c52383b4",
   "metadata": {
    "ExecuteTime": {
     "end_time": "2023-03-25T09:57:38.648318Z",
     "start_time": "2023-03-25T09:57:38.621326Z"
    },
    "execution": {
     "iopub.execute_input": "2023-03-25T10:53:28.619395Z",
     "iopub.status.busy": "2023-03-25T10:53:28.618020Z",
     "iopub.status.idle": "2023-03-25T10:53:30.467600Z",
     "shell.execute_reply": "2023-03-25T10:53:30.466163Z"
    },
    "papermill": {
     "duration": 1.924824,
     "end_time": "2023-03-25T10:53:30.470457",
     "exception": false,
     "start_time": "2023-03-25T10:53:28.545633",
     "status": "completed"
    },
    "tags": []
   },
   "outputs": [
    {
     "name": "stdout",
     "output_type": "stream",
     "text": [
      "102/102 [==============================] - 1s 7ms/step\n"
     ]
    }
   ],
   "source": [
    "# test['target']=nb.predict(test_dtm)\n",
    "test['target']=(model.predict(test_padded_sentences)> 0.5).astype(\"int32\")"
   ]
  },
  {
   "cell_type": "code",
   "execution_count": 57,
   "id": "24d727ba",
   "metadata": {
    "ExecuteTime": {
     "end_time": "2023-03-25T09:55:57.764040Z",
     "start_time": "2023-03-25T09:55:57.750041Z"
    },
    "execution": {
     "iopub.execute_input": "2023-03-25T10:53:30.618019Z",
     "iopub.status.busy": "2023-03-25T10:53:30.617245Z",
     "iopub.status.idle": "2023-03-25T10:53:30.627240Z",
     "shell.execute_reply": "2023-03-25T10:53:30.625784Z"
    },
    "papermill": {
     "duration": 0.085007,
     "end_time": "2023-03-25T10:53:30.630803",
     "exception": false,
     "start_time": "2023-03-25T10:53:30.545796",
     "status": "completed"
    },
    "scrolled": true,
    "tags": []
   },
   "outputs": [],
   "source": [
    "submission=test[['id','target']]"
   ]
  },
  {
   "cell_type": "code",
   "execution_count": 58,
   "id": "87b332e5",
   "metadata": {
    "ExecuteTime": {
     "end_time": "2023-03-25T09:55:57.779407Z",
     "start_time": "2023-03-25T09:55:57.765040Z"
    },
    "execution": {
     "iopub.execute_input": "2023-03-25T10:53:30.774601Z",
     "iopub.status.busy": "2023-03-25T10:53:30.773331Z",
     "iopub.status.idle": "2023-03-25T10:53:30.789275Z",
     "shell.execute_reply": "2023-03-25T10:53:30.787668Z"
    },
    "papermill": {
     "duration": 0.090236,
     "end_time": "2023-03-25T10:53:30.792164",
     "exception": false,
     "start_time": "2023-03-25T10:53:30.701928",
     "status": "completed"
    },
    "tags": []
   },
   "outputs": [],
   "source": [
    "submission.to_csv('submission.csv', index=False)"
   ]
  }
 ],
 "metadata": {
  "kernelspec": {
   "display_name": "Python 3",
   "language": "python",
   "name": "python3"
  },
  "language_info": {
   "codemirror_mode": {
    "name": "ipython",
    "version": 3
   },
   "file_extension": ".py",
   "mimetype": "text/x-python",
   "name": "python",
   "nbconvert_exporter": "python",
   "pygments_lexer": "ipython3",
   "version": "3.7.12"
  },
  "papermill": {
   "default_parameters": {},
   "duration": 134.912663,
   "end_time": "2023-03-25T10:53:33.790932",
   "environment_variables": {},
   "exception": null,
   "input_path": "__notebook__.ipynb",
   "output_path": "__notebook__.ipynb",
   "parameters": {},
   "start_time": "2023-03-25T10:51:18.878269",
   "version": "2.4.0"
  }
 },
 "nbformat": 4,
 "nbformat_minor": 5
}
